{
  "nbformat": 4,
  "nbformat_minor": 0,
  "metadata": {
    "colab": {
      "name": "PLC_data_baseline.ipynb",
      "provenance": [],
      "collapsed_sections": [],
      "machine_shape": "hm",
      "authorship_tag": "ABX9TyO7DX+PWyU6M//+C9fiDrY6",
      "include_colab_link": true
    },
    "kernelspec": {
      "name": "python3",
      "display_name": "Python 3"
    }
  },
  "cells": [
    {
      "cell_type": "markdown",
      "metadata": {
        "id": "view-in-github",
        "colab_type": "text"
      },
      "source": [
        "<a href=\"https://colab.research.google.com/github/JohnTaco93/Foxconn-industrial-AI-Data-Challenge/blob/master/PLC_data_baseline.ipynb\" target=\"_parent\"><img src=\"https://colab.research.google.com/assets/colab-badge.svg\" alt=\"Open In Colab\"/></a>"
      ]
    },
    {
      "cell_type": "code",
      "metadata": {
        "id": "9r6SWeRiYK-X"
      },
      "source": [
        "#baseline with the PLC dataset"
      ],
      "execution_count": null,
      "outputs": []
    },
    {
      "cell_type": "code",
      "metadata": {
        "id": "9CMq6hZ0VHyy",
        "outputId": "6d278b6e-0952-429b-9ef0-870696b69365",
        "colab": {
          "base_uri": "https://localhost:8080/",
          "height": 34
        }
      },
      "source": [
        "from google.colab import drive\n",
        "drive.mount('/content/gdrive')"
      ],
      "execution_count": null,
      "outputs": [
        {
          "output_type": "stream",
          "text": [
            "Mounted at /content/gdrive\n"
          ],
          "name": "stdout"
        }
      ]
    },
    {
      "cell_type": "code",
      "metadata": {
        "id": "UdGuHiPZagdb"
      },
      "source": [
        "import warnings\n",
        "warnings.filterwarnings('ignore')\n",
        "import seaborn as sns\n",
        "import lightgbm as lgb\n",
        "import datetime\n",
        "import pandas as pd\n",
        "import numpy as np\n",
        "import matplotlib\n",
        "import matplotlib.pyplot as plt \n",
        "import seaborn as sns\n",
        "import math\n",
        "\n",
        "import numpy as np\n",
        "import statsmodels.api as sm\n",
        "from statsmodels.sandbox.regression.predstd import wls_prediction_std\n"
      ],
      "execution_count": null,
      "outputs": []
    },
    {
      "cell_type": "code",
      "metadata": {
        "id": "MBNcV0k7apNv"
      },
      "source": [
        "path_data = \"/content/gdrive/My Drive/Foxconn_Challenge_2020/data_foxconn/\""
      ],
      "execution_count": null,
      "outputs": []
    },
    {
      "cell_type": "code",
      "metadata": {
        "id": "EnHWJXQ8bAgy"
      },
      "source": [
        "data01_plc = pd.read_csv(path_data+'/01-Training Data/01/PLC/plc.csv')\n",
        "data02_plc = pd.read_csv(path_data+'/01-Training Data/02/PLC/plc.csv')\n",
        "data03_plc = pd.read_csv(path_data+'/01-Training Data/03/PLC/plc.csv')"
      ],
      "execution_count": null,
      "outputs": []
    },
    {
      "cell_type": "code",
      "metadata": {
        "id": "q2xcUHkOd9NG"
      },
      "source": [
        "def data_preproc(df):\n",
        "  df['time']=pd.to_datetime(df.time, format = '%H:%M:%S:%f')\n",
        "  #df['last_time']=df['time'].max() \n",
        "  #df['rul']=df['last_time']-df['time']\n",
        "  #df['rul']=df['rul']/np.timedelta64(1, 'm')\n",
        "\n",
        "  df['hour']=df.time.dt.hour\n",
        "  df['minute']=df.time.dt.minute\n",
        "  #del df['last_time'], df['time']\n",
        "  del df['time']\n",
        "  return df"
      ],
      "execution_count": null,
      "outputs": []
    },
    {
      "cell_type": "code",
      "metadata": {
        "id": "eJ6LcpWGeAu4"
      },
      "source": [
        "data01_plc=data_preproc(data01_plc)\n",
        "data02_plc=data_preproc(data02_plc)\n",
        "data03_plc=data_preproc(data03_plc)"
      ],
      "execution_count": null,
      "outputs": []
    },
    {
      "cell_type": "code",
      "metadata": {
        "id": "X4FOK84YfBAP",
        "outputId": "e46949a6-23cb-4257-f31d-572cef4340a9",
        "colab": {
          "base_uri": "https://localhost:8080/",
          "height": 195
        }
      },
      "source": [
        "data01_plc.head()"
      ],
      "execution_count": null,
      "outputs": [
        {
          "output_type": "execute_result",
          "data": {
            "text/html": [
              "<div>\n",
              "<style scoped>\n",
              "    .dataframe tbody tr th:only-of-type {\n",
              "        vertical-align: middle;\n",
              "    }\n",
              "\n",
              "    .dataframe tbody tr th {\n",
              "        vertical-align: top;\n",
              "    }\n",
              "\n",
              "    .dataframe thead th {\n",
              "        text-align: right;\n",
              "    }\n",
              "</style>\n",
              "<table border=\"1\" class=\"dataframe\">\n",
              "  <thead>\n",
              "    <tr style=\"text-align: right;\">\n",
              "      <th></th>\n",
              "      <th>spindle_load</th>\n",
              "      <th>x</th>\n",
              "      <th>y</th>\n",
              "      <th>z</th>\n",
              "      <th>csv_no</th>\n",
              "      <th>hour</th>\n",
              "      <th>minute</th>\n",
              "    </tr>\n",
              "  </thead>\n",
              "  <tbody>\n",
              "    <tr>\n",
              "      <th>0</th>\n",
              "      <td>0.0824</td>\n",
              "      <td>-20.9572</td>\n",
              "      <td>-17.6915</td>\n",
              "      <td>-89.6468</td>\n",
              "      <td>1</td>\n",
              "      <td>11</td>\n",
              "      <td>28</td>\n",
              "    </tr>\n",
              "    <tr>\n",
              "      <th>1</th>\n",
              "      <td>0.0824</td>\n",
              "      <td>-20.9572</td>\n",
              "      <td>-17.6915</td>\n",
              "      <td>-89.6468</td>\n",
              "      <td>1</td>\n",
              "      <td>11</td>\n",
              "      <td>28</td>\n",
              "    </tr>\n",
              "    <tr>\n",
              "      <th>2</th>\n",
              "      <td>0.0824</td>\n",
              "      <td>-20.9572</td>\n",
              "      <td>-17.6915</td>\n",
              "      <td>-89.6468</td>\n",
              "      <td>1</td>\n",
              "      <td>11</td>\n",
              "      <td>28</td>\n",
              "    </tr>\n",
              "    <tr>\n",
              "      <th>3</th>\n",
              "      <td>0.0824</td>\n",
              "      <td>-20.9572</td>\n",
              "      <td>-17.6915</td>\n",
              "      <td>-89.6468</td>\n",
              "      <td>1</td>\n",
              "      <td>11</td>\n",
              "      <td>28</td>\n",
              "    </tr>\n",
              "    <tr>\n",
              "      <th>4</th>\n",
              "      <td>0.0824</td>\n",
              "      <td>-20.9572</td>\n",
              "      <td>-17.6915</td>\n",
              "      <td>-89.6468</td>\n",
              "      <td>1</td>\n",
              "      <td>11</td>\n",
              "      <td>28</td>\n",
              "    </tr>\n",
              "  </tbody>\n",
              "</table>\n",
              "</div>"
            ],
            "text/plain": [
              "   spindle_load        x        y        z  csv_no  hour  minute\n",
              "0        0.0824 -20.9572 -17.6915 -89.6468       1    11      28\n",
              "1        0.0824 -20.9572 -17.6915 -89.6468       1    11      28\n",
              "2        0.0824 -20.9572 -17.6915 -89.6468       1    11      28\n",
              "3        0.0824 -20.9572 -17.6915 -89.6468       1    11      28\n",
              "4        0.0824 -20.9572 -17.6915 -89.6468       1    11      28"
            ]
          },
          "metadata": {
            "tags": []
          },
          "execution_count": 10
        }
      ]
    },
    {
      "cell_type": "code",
      "metadata": {
        "id": "sak8b1gbfDh9",
        "outputId": "516ed1d8-1a57-4cdd-c2b4-181727958fea",
        "colab": {
          "base_uri": "https://localhost:8080/",
          "height": 195
        }
      },
      "source": [
        "data02_plc.head()"
      ],
      "execution_count": null,
      "outputs": [
        {
          "output_type": "execute_result",
          "data": {
            "text/html": [
              "<div>\n",
              "<style scoped>\n",
              "    .dataframe tbody tr th:only-of-type {\n",
              "        vertical-align: middle;\n",
              "    }\n",
              "\n",
              "    .dataframe tbody tr th {\n",
              "        vertical-align: top;\n",
              "    }\n",
              "\n",
              "    .dataframe thead th {\n",
              "        text-align: right;\n",
              "    }\n",
              "</style>\n",
              "<table border=\"1\" class=\"dataframe\">\n",
              "  <thead>\n",
              "    <tr style=\"text-align: right;\">\n",
              "      <th></th>\n",
              "      <th>spindle_load</th>\n",
              "      <th>x</th>\n",
              "      <th>y</th>\n",
              "      <th>z</th>\n",
              "      <th>csv_no</th>\n",
              "      <th>hour</th>\n",
              "      <th>minute</th>\n",
              "    </tr>\n",
              "  </thead>\n",
              "  <tbody>\n",
              "    <tr>\n",
              "      <th>0</th>\n",
              "      <td>0.061037</td>\n",
              "      <td>-83.7938</td>\n",
              "      <td>-182.5368</td>\n",
              "      <td>0.0</td>\n",
              "      <td>1</td>\n",
              "      <td>9</td>\n",
              "      <td>42</td>\n",
              "    </tr>\n",
              "    <tr>\n",
              "      <th>1</th>\n",
              "      <td>0.061037</td>\n",
              "      <td>-83.7938</td>\n",
              "      <td>-182.5368</td>\n",
              "      <td>0.0</td>\n",
              "      <td>1</td>\n",
              "      <td>9</td>\n",
              "      <td>42</td>\n",
              "    </tr>\n",
              "    <tr>\n",
              "      <th>2</th>\n",
              "      <td>0.061037</td>\n",
              "      <td>-83.7938</td>\n",
              "      <td>-182.5368</td>\n",
              "      <td>0.0</td>\n",
              "      <td>1</td>\n",
              "      <td>9</td>\n",
              "      <td>42</td>\n",
              "    </tr>\n",
              "    <tr>\n",
              "      <th>3</th>\n",
              "      <td>0.061037</td>\n",
              "      <td>-83.7938</td>\n",
              "      <td>-182.5368</td>\n",
              "      <td>0.0</td>\n",
              "      <td>1</td>\n",
              "      <td>9</td>\n",
              "      <td>42</td>\n",
              "    </tr>\n",
              "    <tr>\n",
              "      <th>4</th>\n",
              "      <td>0.061037</td>\n",
              "      <td>-83.7938</td>\n",
              "      <td>-182.5368</td>\n",
              "      <td>0.0</td>\n",
              "      <td>1</td>\n",
              "      <td>9</td>\n",
              "      <td>42</td>\n",
              "    </tr>\n",
              "  </tbody>\n",
              "</table>\n",
              "</div>"
            ],
            "text/plain": [
              "   spindle_load        x         y    z  csv_no  hour  minute\n",
              "0      0.061037 -83.7938 -182.5368  0.0       1     9      42\n",
              "1      0.061037 -83.7938 -182.5368  0.0       1     9      42\n",
              "2      0.061037 -83.7938 -182.5368  0.0       1     9      42\n",
              "3      0.061037 -83.7938 -182.5368  0.0       1     9      42\n",
              "4      0.061037 -83.7938 -182.5368  0.0       1     9      42"
            ]
          },
          "metadata": {
            "tags": []
          },
          "execution_count": 11
        }
      ]
    },
    {
      "cell_type": "code",
      "metadata": {
        "id": "6oNLnToNfEuZ",
        "outputId": "a34e5a7b-8364-4ac9-9989-f97575000254",
        "colab": {
          "base_uri": "https://localhost:8080/",
          "height": 195
        }
      },
      "source": [
        "data03_plc.head()"
      ],
      "execution_count": null,
      "outputs": [
        {
          "output_type": "execute_result",
          "data": {
            "text/html": [
              "<div>\n",
              "<style scoped>\n",
              "    .dataframe tbody tr th:only-of-type {\n",
              "        vertical-align: middle;\n",
              "    }\n",
              "\n",
              "    .dataframe tbody tr th {\n",
              "        vertical-align: top;\n",
              "    }\n",
              "\n",
              "    .dataframe thead th {\n",
              "        text-align: right;\n",
              "    }\n",
              "</style>\n",
              "<table border=\"1\" class=\"dataframe\">\n",
              "  <thead>\n",
              "    <tr style=\"text-align: right;\">\n",
              "      <th></th>\n",
              "      <th>spindle_load</th>\n",
              "      <th>x</th>\n",
              "      <th>y</th>\n",
              "      <th>z</th>\n",
              "      <th>csv_no</th>\n",
              "      <th>hour</th>\n",
              "      <th>minute</th>\n",
              "    </tr>\n",
              "  </thead>\n",
              "  <tbody>\n",
              "    <tr>\n",
              "      <th>0</th>\n",
              "      <td>0.045778</td>\n",
              "      <td>-300.9473</td>\n",
              "      <td>127.3867</td>\n",
              "      <td>-277.0397</td>\n",
              "      <td>1</td>\n",
              "      <td>11</td>\n",
              "      <td>42</td>\n",
              "    </tr>\n",
              "    <tr>\n",
              "      <th>1</th>\n",
              "      <td>0.045778</td>\n",
              "      <td>-300.9473</td>\n",
              "      <td>127.3867</td>\n",
              "      <td>-277.0397</td>\n",
              "      <td>1</td>\n",
              "      <td>11</td>\n",
              "      <td>42</td>\n",
              "    </tr>\n",
              "    <tr>\n",
              "      <th>2</th>\n",
              "      <td>0.045778</td>\n",
              "      <td>-300.9473</td>\n",
              "      <td>127.3867</td>\n",
              "      <td>-277.0397</td>\n",
              "      <td>1</td>\n",
              "      <td>11</td>\n",
              "      <td>42</td>\n",
              "    </tr>\n",
              "    <tr>\n",
              "      <th>3</th>\n",
              "      <td>0.045778</td>\n",
              "      <td>-300.9473</td>\n",
              "      <td>127.3867</td>\n",
              "      <td>-277.0397</td>\n",
              "      <td>1</td>\n",
              "      <td>11</td>\n",
              "      <td>42</td>\n",
              "    </tr>\n",
              "    <tr>\n",
              "      <th>4</th>\n",
              "      <td>0.045778</td>\n",
              "      <td>-300.9473</td>\n",
              "      <td>127.3867</td>\n",
              "      <td>-277.0397</td>\n",
              "      <td>1</td>\n",
              "      <td>11</td>\n",
              "      <td>42</td>\n",
              "    </tr>\n",
              "  </tbody>\n",
              "</table>\n",
              "</div>"
            ],
            "text/plain": [
              "   spindle_load         x         y         z  csv_no  hour  minute\n",
              "0      0.045778 -300.9473  127.3867 -277.0397       1    11      42\n",
              "1      0.045778 -300.9473  127.3867 -277.0397       1    11      42\n",
              "2      0.045778 -300.9473  127.3867 -277.0397       1    11      42\n",
              "3      0.045778 -300.9473  127.3867 -277.0397       1    11      42\n",
              "4      0.045778 -300.9473  127.3867 -277.0397       1    11      42"
            ]
          },
          "metadata": {
            "tags": []
          },
          "execution_count": 12
        }
      ]
    },
    {
      "cell_type": "code",
      "metadata": {
        "id": "RZr9-TvdfYdv"
      },
      "source": [
        "#data01_plc=data01_plc.groupby(['hour','minute']).mean().reset_index()\n",
        "#data02_plc=data02_plc.groupby(['hour','minute']).mean().reset_index()\n",
        "#data03_plc=data03_plc.groupby(['hour','minute']).mean().reset_index()\n",
        "\n",
        "data01_plc['id']=1\n",
        "data02_plc['id']=2\n",
        "data03_plc['id']=3\n",
        "\n",
        "data01_plc=data01_plc.groupby(['csv_no']).mean().reset_index()\n",
        "data02_plc=data02_plc.groupby(['csv_no']).mean().reset_index()\n",
        "data03_plc=data03_plc.groupby(['csv_no']).mean().reset_index()\n",
        "\n",
        "data01_plc['rul']=240-(data01_plc['csv_no']-1)*5\n",
        "data02_plc['rul']=240-(data02_plc['csv_no']-1)*5\n",
        "data03_plc['rul']=185-(data03_plc['csv_no']-1)*5"
      ],
      "execution_count": null,
      "outputs": []
    },
    {
      "cell_type": "code",
      "metadata": {
        "id": "YNL5O7OsfgAl",
        "outputId": "1dd86a81-065f-4831-8d62-d6636097748e",
        "colab": {
          "base_uri": "https://localhost:8080/",
          "height": 195
        }
      },
      "source": [
        "data01_plc.head()"
      ],
      "execution_count": null,
      "outputs": [
        {
          "output_type": "execute_result",
          "data": {
            "text/html": [
              "<div>\n",
              "<style scoped>\n",
              "    .dataframe tbody tr th:only-of-type {\n",
              "        vertical-align: middle;\n",
              "    }\n",
              "\n",
              "    .dataframe tbody tr th {\n",
              "        vertical-align: top;\n",
              "    }\n",
              "\n",
              "    .dataframe thead th {\n",
              "        text-align: right;\n",
              "    }\n",
              "</style>\n",
              "<table border=\"1\" class=\"dataframe\">\n",
              "  <thead>\n",
              "    <tr style=\"text-align: right;\">\n",
              "      <th></th>\n",
              "      <th>csv_no</th>\n",
              "      <th>spindle_load</th>\n",
              "      <th>x</th>\n",
              "      <th>y</th>\n",
              "      <th>z</th>\n",
              "      <th>hour</th>\n",
              "      <th>minute</th>\n",
              "      <th>id</th>\n",
              "      <th>rul</th>\n",
              "    </tr>\n",
              "  </thead>\n",
              "  <tbody>\n",
              "    <tr>\n",
              "      <th>0</th>\n",
              "      <td>1</td>\n",
              "      <td>0.914081</td>\n",
              "      <td>-356.155884</td>\n",
              "      <td>44.528058</td>\n",
              "      <td>-208.563484</td>\n",
              "      <td>11</td>\n",
              "      <td>28</td>\n",
              "      <td>1</td>\n",
              "      <td>240</td>\n",
              "    </tr>\n",
              "    <tr>\n",
              "      <th>1</th>\n",
              "      <td>2</td>\n",
              "      <td>13.331341</td>\n",
              "      <td>-737.676705</td>\n",
              "      <td>115.590290</td>\n",
              "      <td>-416.320000</td>\n",
              "      <td>11</td>\n",
              "      <td>33</td>\n",
              "      <td>1</td>\n",
              "      <td>235</td>\n",
              "    </tr>\n",
              "    <tr>\n",
              "      <th>2</th>\n",
              "      <td>3</td>\n",
              "      <td>13.701669</td>\n",
              "      <td>-737.856319</td>\n",
              "      <td>105.071377</td>\n",
              "      <td>-421.720000</td>\n",
              "      <td>11</td>\n",
              "      <td>49</td>\n",
              "      <td>1</td>\n",
              "      <td>230</td>\n",
              "    </tr>\n",
              "    <tr>\n",
              "      <th>3</th>\n",
              "      <td>4</td>\n",
              "      <td>13.355145</td>\n",
              "      <td>-736.889246</td>\n",
              "      <td>114.687300</td>\n",
              "      <td>-423.520000</td>\n",
              "      <td>11</td>\n",
              "      <td>54</td>\n",
              "      <td>1</td>\n",
              "      <td>225</td>\n",
              "    </tr>\n",
              "    <tr>\n",
              "      <th>4</th>\n",
              "      <td>5</td>\n",
              "      <td>13.851032</td>\n",
              "      <td>-757.617073</td>\n",
              "      <td>119.884201</td>\n",
              "      <td>-425.320000</td>\n",
              "      <td>11</td>\n",
              "      <td>59</td>\n",
              "      <td>1</td>\n",
              "      <td>220</td>\n",
              "    </tr>\n",
              "  </tbody>\n",
              "</table>\n",
              "</div>"
            ],
            "text/plain": [
              "   csv_no  spindle_load           x           y  ...  hour  minute  id  rul\n",
              "0       1      0.914081 -356.155884   44.528058  ...    11      28   1  240\n",
              "1       2     13.331341 -737.676705  115.590290  ...    11      33   1  235\n",
              "2       3     13.701669 -737.856319  105.071377  ...    11      49   1  230\n",
              "3       4     13.355145 -736.889246  114.687300  ...    11      54   1  225\n",
              "4       5     13.851032 -757.617073  119.884201  ...    11      59   1  220\n",
              "\n",
              "[5 rows x 9 columns]"
            ]
          },
          "metadata": {
            "tags": []
          },
          "execution_count": 14
        }
      ]
    },
    {
      "cell_type": "code",
      "metadata": {
        "id": "6cTPAhlKlJFU",
        "outputId": "cc86d849-aede-4a14-bf3e-c7f69ef20e32",
        "colab": {
          "base_uri": "https://localhost:8080/",
          "height": 195
        }
      },
      "source": [
        "data01_plc.tail()"
      ],
      "execution_count": null,
      "outputs": [
        {
          "output_type": "execute_result",
          "data": {
            "text/html": [
              "<div>\n",
              "<style scoped>\n",
              "    .dataframe tbody tr th:only-of-type {\n",
              "        vertical-align: middle;\n",
              "    }\n",
              "\n",
              "    .dataframe tbody tr th {\n",
              "        vertical-align: top;\n",
              "    }\n",
              "\n",
              "    .dataframe thead th {\n",
              "        text-align: right;\n",
              "    }\n",
              "</style>\n",
              "<table border=\"1\" class=\"dataframe\">\n",
              "  <thead>\n",
              "    <tr style=\"text-align: right;\">\n",
              "      <th></th>\n",
              "      <th>csv_no</th>\n",
              "      <th>spindle_load</th>\n",
              "      <th>x</th>\n",
              "      <th>y</th>\n",
              "      <th>z</th>\n",
              "      <th>hour</th>\n",
              "      <th>minute</th>\n",
              "      <th>id</th>\n",
              "      <th>rul</th>\n",
              "    </tr>\n",
              "  </thead>\n",
              "  <tbody>\n",
              "    <tr>\n",
              "      <th>43</th>\n",
              "      <td>44</td>\n",
              "      <td>18.551681</td>\n",
              "      <td>-262.163846</td>\n",
              "      <td>122.855433</td>\n",
              "      <td>-427.120000</td>\n",
              "      <td>16</td>\n",
              "      <td>8</td>\n",
              "      <td>1</td>\n",
              "      <td>25</td>\n",
              "    </tr>\n",
              "    <tr>\n",
              "      <th>44</th>\n",
              "      <td>45</td>\n",
              "      <td>16.338912</td>\n",
              "      <td>-256.877528</td>\n",
              "      <td>121.644617</td>\n",
              "      <td>-428.349274</td>\n",
              "      <td>16</td>\n",
              "      <td>13</td>\n",
              "      <td>1</td>\n",
              "      <td>20</td>\n",
              "    </tr>\n",
              "    <tr>\n",
              "      <th>45</th>\n",
              "      <td>46</td>\n",
              "      <td>18.578114</td>\n",
              "      <td>-261.288195</td>\n",
              "      <td>136.055511</td>\n",
              "      <td>-430.120000</td>\n",
              "      <td>16</td>\n",
              "      <td>18</td>\n",
              "      <td>1</td>\n",
              "      <td>15</td>\n",
              "    </tr>\n",
              "    <tr>\n",
              "      <th>46</th>\n",
              "      <td>47</td>\n",
              "      <td>17.217182</td>\n",
              "      <td>-265.601527</td>\n",
              "      <td>104.301247</td>\n",
              "      <td>-431.322719</td>\n",
              "      <td>16</td>\n",
              "      <td>23</td>\n",
              "      <td>1</td>\n",
              "      <td>10</td>\n",
              "    </tr>\n",
              "    <tr>\n",
              "      <th>47</th>\n",
              "      <td>48</td>\n",
              "      <td>1.021385</td>\n",
              "      <td>-40.317668</td>\n",
              "      <td>-136.676397</td>\n",
              "      <td>-131.135346</td>\n",
              "      <td>16</td>\n",
              "      <td>28</td>\n",
              "      <td>1</td>\n",
              "      <td>5</td>\n",
              "    </tr>\n",
              "  </tbody>\n",
              "</table>\n",
              "</div>"
            ],
            "text/plain": [
              "    csv_no  spindle_load           x           y  ...  hour  minute  id  rul\n",
              "43      44     18.551681 -262.163846  122.855433  ...    16       8   1   25\n",
              "44      45     16.338912 -256.877528  121.644617  ...    16      13   1   20\n",
              "45      46     18.578114 -261.288195  136.055511  ...    16      18   1   15\n",
              "46      47     17.217182 -265.601527  104.301247  ...    16      23   1   10\n",
              "47      48      1.021385  -40.317668 -136.676397  ...    16      28   1    5\n",
              "\n",
              "[5 rows x 9 columns]"
            ]
          },
          "metadata": {
            "tags": []
          },
          "execution_count": 15
        }
      ]
    },
    {
      "cell_type": "code",
      "metadata": {
        "id": "mCR8QiuIlMPV",
        "outputId": "5c36f05a-2c20-4068-c4e9-b268da87df25",
        "colab": {
          "base_uri": "https://localhost:8080/",
          "height": 195
        }
      },
      "source": [
        "data02_plc.head()"
      ],
      "execution_count": null,
      "outputs": [
        {
          "output_type": "execute_result",
          "data": {
            "text/html": [
              "<div>\n",
              "<style scoped>\n",
              "    .dataframe tbody tr th:only-of-type {\n",
              "        vertical-align: middle;\n",
              "    }\n",
              "\n",
              "    .dataframe tbody tr th {\n",
              "        vertical-align: top;\n",
              "    }\n",
              "\n",
              "    .dataframe thead th {\n",
              "        text-align: right;\n",
              "    }\n",
              "</style>\n",
              "<table border=\"1\" class=\"dataframe\">\n",
              "  <thead>\n",
              "    <tr style=\"text-align: right;\">\n",
              "      <th></th>\n",
              "      <th>csv_no</th>\n",
              "      <th>spindle_load</th>\n",
              "      <th>x</th>\n",
              "      <th>y</th>\n",
              "      <th>z</th>\n",
              "      <th>hour</th>\n",
              "      <th>minute</th>\n",
              "      <th>id</th>\n",
              "      <th>rul</th>\n",
              "    </tr>\n",
              "  </thead>\n",
              "  <tbody>\n",
              "    <tr>\n",
              "      <th>0</th>\n",
              "      <td>1</td>\n",
              "      <td>4.425582</td>\n",
              "      <td>-681.708040</td>\n",
              "      <td>49.622495</td>\n",
              "      <td>-280.836206</td>\n",
              "      <td>9</td>\n",
              "      <td>42</td>\n",
              "      <td>2</td>\n",
              "      <td>240</td>\n",
              "    </tr>\n",
              "    <tr>\n",
              "      <th>1</th>\n",
              "      <td>2</td>\n",
              "      <td>8.763423</td>\n",
              "      <td>-415.280921</td>\n",
              "      <td>108.637706</td>\n",
              "      <td>-415.882105</td>\n",
              "      <td>9</td>\n",
              "      <td>47</td>\n",
              "      <td>2</td>\n",
              "      <td>235</td>\n",
              "    </tr>\n",
              "    <tr>\n",
              "      <th>2</th>\n",
              "      <td>3</td>\n",
              "      <td>10.106236</td>\n",
              "      <td>-585.226604</td>\n",
              "      <td>105.741394</td>\n",
              "      <td>-417.715040</td>\n",
              "      <td>9</td>\n",
              "      <td>52</td>\n",
              "      <td>2</td>\n",
              "      <td>230</td>\n",
              "    </tr>\n",
              "    <tr>\n",
              "      <th>3</th>\n",
              "      <td>4</td>\n",
              "      <td>9.955772</td>\n",
              "      <td>-345.678134</td>\n",
              "      <td>199.199593</td>\n",
              "      <td>-418.946896</td>\n",
              "      <td>9</td>\n",
              "      <td>57</td>\n",
              "      <td>2</td>\n",
              "      <td>225</td>\n",
              "    </tr>\n",
              "    <tr>\n",
              "      <th>4</th>\n",
              "      <td>5</td>\n",
              "      <td>9.267133</td>\n",
              "      <td>-748.663961</td>\n",
              "      <td>156.516027</td>\n",
              "      <td>-420.239503</td>\n",
              "      <td>10</td>\n",
              "      <td>2</td>\n",
              "      <td>2</td>\n",
              "      <td>220</td>\n",
              "    </tr>\n",
              "  </tbody>\n",
              "</table>\n",
              "</div>"
            ],
            "text/plain": [
              "   csv_no  spindle_load           x           y  ...  hour  minute  id  rul\n",
              "0       1      4.425582 -681.708040   49.622495  ...     9      42   2  240\n",
              "1       2      8.763423 -415.280921  108.637706  ...     9      47   2  235\n",
              "2       3     10.106236 -585.226604  105.741394  ...     9      52   2  230\n",
              "3       4      9.955772 -345.678134  199.199593  ...     9      57   2  225\n",
              "4       5      9.267133 -748.663961  156.516027  ...    10       2   2  220\n",
              "\n",
              "[5 rows x 9 columns]"
            ]
          },
          "metadata": {
            "tags": []
          },
          "execution_count": 16
        }
      ]
    },
    {
      "cell_type": "code",
      "metadata": {
        "id": "LODk4EYxp-ja",
        "outputId": "15b8a201-0122-4abb-9673-73f86e4c18db",
        "colab": {
          "base_uri": "https://localhost:8080/",
          "height": 195
        }
      },
      "source": [
        "data02_plc.tail()"
      ],
      "execution_count": null,
      "outputs": [
        {
          "output_type": "execute_result",
          "data": {
            "text/html": [
              "<div>\n",
              "<style scoped>\n",
              "    .dataframe tbody tr th:only-of-type {\n",
              "        vertical-align: middle;\n",
              "    }\n",
              "\n",
              "    .dataframe tbody tr th {\n",
              "        vertical-align: top;\n",
              "    }\n",
              "\n",
              "    .dataframe thead th {\n",
              "        text-align: right;\n",
              "    }\n",
              "</style>\n",
              "<table border=\"1\" class=\"dataframe\">\n",
              "  <thead>\n",
              "    <tr style=\"text-align: right;\">\n",
              "      <th></th>\n",
              "      <th>csv_no</th>\n",
              "      <th>spindle_load</th>\n",
              "      <th>x</th>\n",
              "      <th>y</th>\n",
              "      <th>z</th>\n",
              "      <th>hour</th>\n",
              "      <th>minute</th>\n",
              "      <th>id</th>\n",
              "      <th>rul</th>\n",
              "    </tr>\n",
              "  </thead>\n",
              "  <tbody>\n",
              "    <tr>\n",
              "      <th>43</th>\n",
              "      <td>44</td>\n",
              "      <td>12.552712</td>\n",
              "      <td>-713.164007</td>\n",
              "      <td>144.412558</td>\n",
              "      <td>-480.020507</td>\n",
              "      <td>16</td>\n",
              "      <td>27</td>\n",
              "      <td>2</td>\n",
              "      <td>25</td>\n",
              "    </tr>\n",
              "    <tr>\n",
              "      <th>44</th>\n",
              "      <td>45</td>\n",
              "      <td>12.364677</td>\n",
              "      <td>-419.120718</td>\n",
              "      <td>137.487093</td>\n",
              "      <td>-481.602319</td>\n",
              "      <td>16</td>\n",
              "      <td>32</td>\n",
              "      <td>2</td>\n",
              "      <td>20</td>\n",
              "    </tr>\n",
              "    <tr>\n",
              "      <th>45</th>\n",
              "      <td>46</td>\n",
              "      <td>11.433770</td>\n",
              "      <td>-698.703146</td>\n",
              "      <td>196.198324</td>\n",
              "      <td>-477.196087</td>\n",
              "      <td>16</td>\n",
              "      <td>37</td>\n",
              "      <td>2</td>\n",
              "      <td>15</td>\n",
              "    </tr>\n",
              "    <tr>\n",
              "      <th>46</th>\n",
              "      <td>47</td>\n",
              "      <td>10.774908</td>\n",
              "      <td>-627.187503</td>\n",
              "      <td>186.084878</td>\n",
              "      <td>-472.246480</td>\n",
              "      <td>16</td>\n",
              "      <td>42</td>\n",
              "      <td>2</td>\n",
              "      <td>10</td>\n",
              "    </tr>\n",
              "    <tr>\n",
              "      <th>47</th>\n",
              "      <td>48</td>\n",
              "      <td>10.263164</td>\n",
              "      <td>-336.873114</td>\n",
              "      <td>203.164056</td>\n",
              "      <td>-482.745319</td>\n",
              "      <td>16</td>\n",
              "      <td>47</td>\n",
              "      <td>2</td>\n",
              "      <td>5</td>\n",
              "    </tr>\n",
              "  </tbody>\n",
              "</table>\n",
              "</div>"
            ],
            "text/plain": [
              "    csv_no  spindle_load           x           y  ...  hour  minute  id  rul\n",
              "43      44     12.552712 -713.164007  144.412558  ...    16      27   2   25\n",
              "44      45     12.364677 -419.120718  137.487093  ...    16      32   2   20\n",
              "45      46     11.433770 -698.703146  196.198324  ...    16      37   2   15\n",
              "46      47     10.774908 -627.187503  186.084878  ...    16      42   2   10\n",
              "47      48     10.263164 -336.873114  203.164056  ...    16      47   2    5\n",
              "\n",
              "[5 rows x 9 columns]"
            ]
          },
          "metadata": {
            "tags": []
          },
          "execution_count": 17
        }
      ]
    },
    {
      "cell_type": "code",
      "metadata": {
        "id": "jgXolU0wqBRB",
        "outputId": "2fb67dda-b47b-4a10-d7ba-a9cb8c3692c7",
        "colab": {
          "base_uri": "https://localhost:8080/",
          "height": 195
        }
      },
      "source": [
        "data03_plc.head()"
      ],
      "execution_count": null,
      "outputs": [
        {
          "output_type": "execute_result",
          "data": {
            "text/html": [
              "<div>\n",
              "<style scoped>\n",
              "    .dataframe tbody tr th:only-of-type {\n",
              "        vertical-align: middle;\n",
              "    }\n",
              "\n",
              "    .dataframe tbody tr th {\n",
              "        vertical-align: top;\n",
              "    }\n",
              "\n",
              "    .dataframe thead th {\n",
              "        text-align: right;\n",
              "    }\n",
              "</style>\n",
              "<table border=\"1\" class=\"dataframe\">\n",
              "  <thead>\n",
              "    <tr style=\"text-align: right;\">\n",
              "      <th></th>\n",
              "      <th>csv_no</th>\n",
              "      <th>spindle_load</th>\n",
              "      <th>x</th>\n",
              "      <th>y</th>\n",
              "      <th>z</th>\n",
              "      <th>hour</th>\n",
              "      <th>minute</th>\n",
              "      <th>id</th>\n",
              "      <th>rul</th>\n",
              "    </tr>\n",
              "  </thead>\n",
              "  <tbody>\n",
              "    <tr>\n",
              "      <th>0</th>\n",
              "      <td>1</td>\n",
              "      <td>1.267259</td>\n",
              "      <td>-316.457348</td>\n",
              "      <td>118.084560</td>\n",
              "      <td>-310.033741</td>\n",
              "      <td>11</td>\n",
              "      <td>42</td>\n",
              "      <td>3</td>\n",
              "      <td>185</td>\n",
              "    </tr>\n",
              "    <tr>\n",
              "      <th>1</th>\n",
              "      <td>2</td>\n",
              "      <td>12.595688</td>\n",
              "      <td>-246.128581</td>\n",
              "      <td>118.143456</td>\n",
              "      <td>-531.594600</td>\n",
              "      <td>11</td>\n",
              "      <td>47</td>\n",
              "      <td>3</td>\n",
              "      <td>180</td>\n",
              "    </tr>\n",
              "    <tr>\n",
              "      <th>2</th>\n",
              "      <td>3</td>\n",
              "      <td>13.490702</td>\n",
              "      <td>-278.715433</td>\n",
              "      <td>140.684027</td>\n",
              "      <td>-532.951000</td>\n",
              "      <td>11</td>\n",
              "      <td>52</td>\n",
              "      <td>3</td>\n",
              "      <td>175</td>\n",
              "    </tr>\n",
              "    <tr>\n",
              "      <th>3</th>\n",
              "      <td>4</td>\n",
              "      <td>12.566447</td>\n",
              "      <td>-253.247554</td>\n",
              "      <td>102.361534</td>\n",
              "      <td>-534.531971</td>\n",
              "      <td>11</td>\n",
              "      <td>57</td>\n",
              "      <td>3</td>\n",
              "      <td>170</td>\n",
              "    </tr>\n",
              "    <tr>\n",
              "      <th>4</th>\n",
              "      <td>5</td>\n",
              "      <td>13.651261</td>\n",
              "      <td>-259.052118</td>\n",
              "      <td>145.016604</td>\n",
              "      <td>-535.951000</td>\n",
              "      <td>12</td>\n",
              "      <td>2</td>\n",
              "      <td>3</td>\n",
              "      <td>165</td>\n",
              "    </tr>\n",
              "  </tbody>\n",
              "</table>\n",
              "</div>"
            ],
            "text/plain": [
              "   csv_no  spindle_load           x           y  ...  hour  minute  id  rul\n",
              "0       1      1.267259 -316.457348  118.084560  ...    11      42   3  185\n",
              "1       2     12.595688 -246.128581  118.143456  ...    11      47   3  180\n",
              "2       3     13.490702 -278.715433  140.684027  ...    11      52   3  175\n",
              "3       4     12.566447 -253.247554  102.361534  ...    11      57   3  170\n",
              "4       5     13.651261 -259.052118  145.016604  ...    12       2   3  165\n",
              "\n",
              "[5 rows x 9 columns]"
            ]
          },
          "metadata": {
            "tags": []
          },
          "execution_count": 18
        }
      ]
    },
    {
      "cell_type": "code",
      "metadata": {
        "id": "5xTLmhz8qDtI",
        "outputId": "5daa0ed9-4b39-4013-958a-e747241fa53c",
        "colab": {
          "base_uri": "https://localhost:8080/",
          "height": 195
        }
      },
      "source": [
        "data03_plc.tail()"
      ],
      "execution_count": null,
      "outputs": [
        {
          "output_type": "execute_result",
          "data": {
            "text/html": [
              "<div>\n",
              "<style scoped>\n",
              "    .dataframe tbody tr th:only-of-type {\n",
              "        vertical-align: middle;\n",
              "    }\n",
              "\n",
              "    .dataframe tbody tr th {\n",
              "        vertical-align: top;\n",
              "    }\n",
              "\n",
              "    .dataframe thead th {\n",
              "        text-align: right;\n",
              "    }\n",
              "</style>\n",
              "<table border=\"1\" class=\"dataframe\">\n",
              "  <thead>\n",
              "    <tr style=\"text-align: right;\">\n",
              "      <th></th>\n",
              "      <th>csv_no</th>\n",
              "      <th>spindle_load</th>\n",
              "      <th>x</th>\n",
              "      <th>y</th>\n",
              "      <th>z</th>\n",
              "      <th>hour</th>\n",
              "      <th>minute</th>\n",
              "      <th>id</th>\n",
              "      <th>rul</th>\n",
              "    </tr>\n",
              "  </thead>\n",
              "  <tbody>\n",
              "    <tr>\n",
              "      <th>32</th>\n",
              "      <td>33</td>\n",
              "      <td>11.574848</td>\n",
              "      <td>-859.405446</td>\n",
              "      <td>190.401562</td>\n",
              "      <td>-553.849557</td>\n",
              "      <td>10</td>\n",
              "      <td>37</td>\n",
              "      <td>3</td>\n",
              "      <td>25</td>\n",
              "    </tr>\n",
              "    <tr>\n",
              "      <th>33</th>\n",
              "      <td>34</td>\n",
              "      <td>15.227132</td>\n",
              "      <td>-500.552802</td>\n",
              "      <td>48.883475</td>\n",
              "      <td>-496.668167</td>\n",
              "      <td>10</td>\n",
              "      <td>42</td>\n",
              "      <td>3</td>\n",
              "      <td>20</td>\n",
              "    </tr>\n",
              "    <tr>\n",
              "      <th>34</th>\n",
              "      <td>35</td>\n",
              "      <td>15.705032</td>\n",
              "      <td>-496.206078</td>\n",
              "      <td>79.907723</td>\n",
              "      <td>-500.569300</td>\n",
              "      <td>10</td>\n",
              "      <td>47</td>\n",
              "      <td>3</td>\n",
              "      <td>15</td>\n",
              "    </tr>\n",
              "    <tr>\n",
              "      <th>35</th>\n",
              "      <td>36</td>\n",
              "      <td>16.167322</td>\n",
              "      <td>-502.566138</td>\n",
              "      <td>55.423277</td>\n",
              "      <td>-504.333603</td>\n",
              "      <td>10</td>\n",
              "      <td>52</td>\n",
              "      <td>3</td>\n",
              "      <td>10</td>\n",
              "    </tr>\n",
              "    <tr>\n",
              "      <th>36</th>\n",
              "      <td>37</td>\n",
              "      <td>13.488097</td>\n",
              "      <td>-498.994624</td>\n",
              "      <td>12.435645</td>\n",
              "      <td>-505.721843</td>\n",
              "      <td>10</td>\n",
              "      <td>57</td>\n",
              "      <td>3</td>\n",
              "      <td>5</td>\n",
              "    </tr>\n",
              "  </tbody>\n",
              "</table>\n",
              "</div>"
            ],
            "text/plain": [
              "    csv_no  spindle_load           x           y  ...  hour  minute  id  rul\n",
              "32      33     11.574848 -859.405446  190.401562  ...    10      37   3   25\n",
              "33      34     15.227132 -500.552802   48.883475  ...    10      42   3   20\n",
              "34      35     15.705032 -496.206078   79.907723  ...    10      47   3   15\n",
              "35      36     16.167322 -502.566138   55.423277  ...    10      52   3   10\n",
              "36      37     13.488097 -498.994624   12.435645  ...    10      57   3    5\n",
              "\n",
              "[5 rows x 9 columns]"
            ]
          },
          "metadata": {
            "tags": []
          },
          "execution_count": 19
        }
      ]
    },
    {
      "cell_type": "code",
      "metadata": {
        "id": "8i1Y8BIYgcR7"
      },
      "source": [
        "frames = [data01_plc, data02_plc, data03_plc]"
      ],
      "execution_count": null,
      "outputs": []
    },
    {
      "cell_type": "code",
      "metadata": {
        "id": "g4vAvqcIfnBy"
      },
      "source": [
        "data_plc = pd.concat(frames)"
      ],
      "execution_count": null,
      "outputs": []
    },
    {
      "cell_type": "code",
      "metadata": {
        "id": "V3qXtdLFtOwK"
      },
      "source": [
        "import math \n",
        "import numpy as np"
      ],
      "execution_count": null,
      "outputs": []
    },
    {
      "cell_type": "code",
      "metadata": {
        "id": "SNgrg4bvgwG5"
      },
      "source": [
        "def feature_eng(df):\n",
        "  df['xyz']=np.sqrt(df['x']**2+df['y']**2+df['y']**2)\n",
        "\n",
        "  return df"
      ],
      "execution_count": null,
      "outputs": []
    },
    {
      "cell_type": "code",
      "metadata": {
        "id": "s7SCrKFCtB4A"
      },
      "source": [
        "data_plc=feature_eng(data_plc)"
      ],
      "execution_count": null,
      "outputs": []
    },
    {
      "cell_type": "code",
      "metadata": {
        "id": "x9yp2llHfpLh"
      },
      "source": [
        "data_plc.drop(['csv_no','hour','minute'],axis=1,inplace=True)"
      ],
      "execution_count": null,
      "outputs": []
    },
    {
      "cell_type": "code",
      "metadata": {
        "id": "XBk-SpuWt4Xk",
        "outputId": "2e1676fe-49ca-4cc5-88e6-28ed51b5b5a1",
        "colab": {
          "base_uri": "https://localhost:8080/",
          "height": 195
        }
      },
      "source": [
        "data_plc.head()"
      ],
      "execution_count": null,
      "outputs": [
        {
          "output_type": "execute_result",
          "data": {
            "text/html": [
              "<div>\n",
              "<style scoped>\n",
              "    .dataframe tbody tr th:only-of-type {\n",
              "        vertical-align: middle;\n",
              "    }\n",
              "\n",
              "    .dataframe tbody tr th {\n",
              "        vertical-align: top;\n",
              "    }\n",
              "\n",
              "    .dataframe thead th {\n",
              "        text-align: right;\n",
              "    }\n",
              "</style>\n",
              "<table border=\"1\" class=\"dataframe\">\n",
              "  <thead>\n",
              "    <tr style=\"text-align: right;\">\n",
              "      <th></th>\n",
              "      <th>spindle_load</th>\n",
              "      <th>x</th>\n",
              "      <th>y</th>\n",
              "      <th>z</th>\n",
              "      <th>id</th>\n",
              "      <th>rul</th>\n",
              "      <th>xyz</th>\n",
              "    </tr>\n",
              "  </thead>\n",
              "  <tbody>\n",
              "    <tr>\n",
              "      <th>0</th>\n",
              "      <td>0.914081</td>\n",
              "      <td>-356.155884</td>\n",
              "      <td>44.528058</td>\n",
              "      <td>-208.563484</td>\n",
              "      <td>1</td>\n",
              "      <td>240</td>\n",
              "      <td>361.680121</td>\n",
              "    </tr>\n",
              "    <tr>\n",
              "      <th>1</th>\n",
              "      <td>13.331341</td>\n",
              "      <td>-737.676705</td>\n",
              "      <td>115.590290</td>\n",
              "      <td>-416.320000</td>\n",
              "      <td>1</td>\n",
              "      <td>235</td>\n",
              "      <td>755.572069</td>\n",
              "    </tr>\n",
              "    <tr>\n",
              "      <th>2</th>\n",
              "      <td>13.701669</td>\n",
              "      <td>-737.856319</td>\n",
              "      <td>105.071377</td>\n",
              "      <td>-421.720000</td>\n",
              "      <td>1</td>\n",
              "      <td>230</td>\n",
              "      <td>752.669872</td>\n",
              "    </tr>\n",
              "    <tr>\n",
              "      <th>3</th>\n",
              "      <td>13.355145</td>\n",
              "      <td>-736.889246</td>\n",
              "      <td>114.687300</td>\n",
              "      <td>-423.520000</td>\n",
              "      <td>1</td>\n",
              "      <td>225</td>\n",
              "      <td>754.527743</td>\n",
              "    </tr>\n",
              "    <tr>\n",
              "      <th>4</th>\n",
              "      <td>13.851032</td>\n",
              "      <td>-757.617073</td>\n",
              "      <td>119.884201</td>\n",
              "      <td>-425.320000</td>\n",
              "      <td>1</td>\n",
              "      <td>220</td>\n",
              "      <td>776.355635</td>\n",
              "    </tr>\n",
              "  </tbody>\n",
              "</table>\n",
              "</div>"
            ],
            "text/plain": [
              "   spindle_load           x           y           z  id  rul         xyz\n",
              "0      0.914081 -356.155884   44.528058 -208.563484   1  240  361.680121\n",
              "1     13.331341 -737.676705  115.590290 -416.320000   1  235  755.572069\n",
              "2     13.701669 -737.856319  105.071377 -421.720000   1  230  752.669872\n",
              "3     13.355145 -736.889246  114.687300 -423.520000   1  225  754.527743\n",
              "4     13.851032 -757.617073  119.884201 -425.320000   1  220  776.355635"
            ]
          },
          "metadata": {
            "tags": []
          },
          "execution_count": 26
        }
      ]
    },
    {
      "cell_type": "code",
      "metadata": {
        "id": "-ritJ-5iwlMk",
        "outputId": "a03b770f-0e38-4cfa-d7d8-1877f296abbc",
        "colab": {
          "base_uri": "https://localhost:8080/",
          "height": 34
        }
      },
      "source": [
        "data_plc.shape"
      ],
      "execution_count": null,
      "outputs": [
        {
          "output_type": "execute_result",
          "data": {
            "text/plain": [
              "(133, 7)"
            ]
          },
          "metadata": {
            "tags": []
          },
          "execution_count": 27
        }
      ]
    },
    {
      "cell_type": "code",
      "metadata": {
        "id": "IaqBPGTu1oSy"
      },
      "source": [
        "data_plc_vibr=data_plc.copy()"
      ],
      "execution_count": null,
      "outputs": []
    },
    {
      "cell_type": "code",
      "metadata": {
        "id": "ZIPOBoqRftWe"
      },
      "source": [
        "X=data_plc_vibr.drop(['rul'],axis=1)\n",
        "y=data_plc_vibr.rul.copy() #target"
      ],
      "execution_count": null,
      "outputs": []
    },
    {
      "cell_type": "code",
      "metadata": {
        "id": "03ekuAUXvX2c",
        "outputId": "82a6a7d8-e589-405f-c686-7b56ad4a21af",
        "colab": {
          "base_uri": "https://localhost:8080/",
          "height": 538
        }
      },
      "source": [
        "ols_model = sm.OLS(y, X)\n",
        "ols_results = ols_model.fit()\n",
        "print(ols_results.summary())"
      ],
      "execution_count": null,
      "outputs": [
        {
          "output_type": "stream",
          "text": [
            "                                 OLS Regression Results                                \n",
            "=======================================================================================\n",
            "Dep. Variable:                    rul   R-squared (uncentered):                   0.724\n",
            "Model:                            OLS   Adj. R-squared (uncentered):              0.711\n",
            "Method:                 Least Squares   F-statistic:                              55.48\n",
            "Date:                Wed, 14 Oct 2020   Prob (F-statistic):                    3.65e-33\n",
            "Time:                        21:10:07   Log-Likelihood:                         -753.22\n",
            "No. Observations:                 133   AIC:                                      1518.\n",
            "Df Residuals:                     127   BIC:                                      1536.\n",
            "Df Model:                           6                                                  \n",
            "Covariance Type:            nonrobust                                                  \n",
            "================================================================================\n",
            "                   coef    std err          t      P>|t|      [0.025      0.975]\n",
            "--------------------------------------------------------------------------------\n",
            "spindle_load    -3.8223      4.285     -0.892      0.374     -12.301       4.657\n",
            "x                0.3142      0.171      1.836      0.069      -0.025       0.653\n",
            "y                0.0109      0.129      0.085      0.933      -0.243       0.265\n",
            "z               -0.2666      0.224     -1.190      0.236      -0.710       0.177\n",
            "id             -13.0974     15.518     -0.844      0.400     -43.805      17.610\n",
            "xyz              0.3887      0.184      2.109      0.037       0.024       0.753\n",
            "==============================================================================\n",
            "Omnibus:                       10.185   Durbin-Watson:                   0.262\n",
            "Prob(Omnibus):                  0.006   Jarque-Bera (JB):                4.987\n",
            "Skew:                           0.248   Prob(JB):                       0.0826\n",
            "Kurtosis:                       2.192   Cond. No.                     2.55e+03\n",
            "==============================================================================\n",
            "\n",
            "Warnings:\n",
            "[1] Standard Errors assume that the covariance matrix of the errors is correctly specified.\n",
            "[2] The condition number is large, 2.55e+03. This might indicate that there are\n",
            "strong multicollinearity or other numerical problems.\n"
          ],
          "name": "stdout"
        }
      ]
    },
    {
      "cell_type": "code",
      "metadata": {
        "id": "mv2CvKO1X17D"
      },
      "source": [
        "#0.724\n",
        "#0.711"
      ],
      "execution_count": null,
      "outputs": []
    },
    {
      "cell_type": "code",
      "metadata": {
        "id": "tH--yEVb2gTX"
      },
      "source": [
        "data01_plc_test = pd.read_csv(path_data+'/02-Testing Data/01/PLC/plc.csv')\n",
        "data02_plc_test = pd.read_csv(path_data+'/02-Testing Data/02/PLC/plc.csv')\n",
        "data03_plc_test = pd.read_csv(path_data+'/02-Testing Data/03/PLC/plc.csv')\n",
        "data04_plc_test = pd.read_csv(path_data+'/02-Testing Data/04/PLC/plc.csv')\n",
        "data05_plc_test = pd.read_csv(path_data+'/02-Testing Data/05/PLC/plc.csv')"
      ],
      "execution_count": null,
      "outputs": []
    },
    {
      "cell_type": "code",
      "metadata": {
        "id": "LIZ9z2lu4NHd"
      },
      "source": [
        "data01_plc_test=data_preproc(data01_plc_test)\n",
        "data02_plc_test=data_preproc(data02_plc_test)\n",
        "data03_plc_test=data_preproc(data03_plc_test)\n",
        "data04_plc_test=data_preproc(data04_plc_test)\n",
        "data05_plc_test=data_preproc(data05_plc_test)"
      ],
      "execution_count": null,
      "outputs": []
    },
    {
      "cell_type": "code",
      "metadata": {
        "id": "H4hWHo0x57Bx",
        "outputId": "8134c862-57af-40cc-ab6c-cca445f77c5d",
        "colab": {
          "base_uri": "https://localhost:8080/",
          "height": 195
        }
      },
      "source": [
        "data04_plc_test.head()"
      ],
      "execution_count": null,
      "outputs": [
        {
          "output_type": "execute_result",
          "data": {
            "text/html": [
              "<div>\n",
              "<style scoped>\n",
              "    .dataframe tbody tr th:only-of-type {\n",
              "        vertical-align: middle;\n",
              "    }\n",
              "\n",
              "    .dataframe tbody tr th {\n",
              "        vertical-align: top;\n",
              "    }\n",
              "\n",
              "    .dataframe thead th {\n",
              "        text-align: right;\n",
              "    }\n",
              "</style>\n",
              "<table border=\"1\" class=\"dataframe\">\n",
              "  <thead>\n",
              "    <tr style=\"text-align: right;\">\n",
              "      <th></th>\n",
              "      <th>spindle_load</th>\n",
              "      <th>x</th>\n",
              "      <th>y</th>\n",
              "      <th>z</th>\n",
              "      <th>csv_no</th>\n",
              "      <th>hour</th>\n",
              "      <th>minute</th>\n",
              "    </tr>\n",
              "  </thead>\n",
              "  <tbody>\n",
              "    <tr>\n",
              "      <th>0</th>\n",
              "      <td>13.760796</td>\n",
              "      <td>-281.1937</td>\n",
              "      <td>216.7628</td>\n",
              "      <td>-476.463</td>\n",
              "      <td>1</td>\n",
              "      <td>12</td>\n",
              "      <td>23</td>\n",
              "    </tr>\n",
              "    <tr>\n",
              "      <th>1</th>\n",
              "      <td>13.760796</td>\n",
              "      <td>-281.1937</td>\n",
              "      <td>216.7628</td>\n",
              "      <td>-476.463</td>\n",
              "      <td>1</td>\n",
              "      <td>12</td>\n",
              "      <td>23</td>\n",
              "    </tr>\n",
              "    <tr>\n",
              "      <th>2</th>\n",
              "      <td>13.760796</td>\n",
              "      <td>-281.1937</td>\n",
              "      <td>216.7628</td>\n",
              "      <td>-476.463</td>\n",
              "      <td>1</td>\n",
              "      <td>12</td>\n",
              "      <td>23</td>\n",
              "    </tr>\n",
              "    <tr>\n",
              "      <th>3</th>\n",
              "      <td>13.760796</td>\n",
              "      <td>-281.1937</td>\n",
              "      <td>216.7628</td>\n",
              "      <td>-476.463</td>\n",
              "      <td>1</td>\n",
              "      <td>12</td>\n",
              "      <td>23</td>\n",
              "    </tr>\n",
              "    <tr>\n",
              "      <th>4</th>\n",
              "      <td>13.760796</td>\n",
              "      <td>-281.1937</td>\n",
              "      <td>216.7628</td>\n",
              "      <td>-476.463</td>\n",
              "      <td>1</td>\n",
              "      <td>12</td>\n",
              "      <td>23</td>\n",
              "    </tr>\n",
              "  </tbody>\n",
              "</table>\n",
              "</div>"
            ],
            "text/plain": [
              "   spindle_load         x         y        z  csv_no  hour  minute\n",
              "0     13.760796 -281.1937  216.7628 -476.463       1    12      23\n",
              "1     13.760796 -281.1937  216.7628 -476.463       1    12      23\n",
              "2     13.760796 -281.1937  216.7628 -476.463       1    12      23\n",
              "3     13.760796 -281.1937  216.7628 -476.463       1    12      23\n",
              "4     13.760796 -281.1937  216.7628 -476.463       1    12      23"
            ]
          },
          "metadata": {
            "tags": []
          },
          "execution_count": 35
        }
      ]
    },
    {
      "cell_type": "code",
      "metadata": {
        "id": "GUbnmrtd4UpM"
      },
      "source": [
        "data01_plc_test['id']=1\n",
        "data02_plc_test['id']=2\n",
        "data03_plc_test['id']=3\n",
        "data04_plc_test['id']=4\n",
        "data05_plc_test['id']=5\n",
        "\n",
        "data01_plc_test=data01_plc_test.groupby(['csv_no']).mean().reset_index()\n",
        "data02_plc_test=data02_plc_test.groupby(['csv_no']).mean().reset_index()\n",
        "data03_plc_test=data03_plc_test.groupby(['csv_no']).mean().reset_index()\n",
        "data04_plc_test=data04_plc_test.groupby(['csv_no']).mean().reset_index()\n",
        "data05_plc_test=data05_plc_test.groupby(['csv_no']).mean().reset_index()\n",
        "\n",
        "#data01_plc_test['rul']=240-(data01_plc_test['csv_no']-1)*5\n",
        "#data02_plc_test['rul']=240-(data02_plc_test['csv_no']-1)*5\n",
        "#data03_plc_test['rul']=185-(data03_plc_test['csv_no']-1)*5"
      ],
      "execution_count": null,
      "outputs": []
    },
    {
      "cell_type": "code",
      "metadata": {
        "id": "Kf06xxtG6BGB",
        "outputId": "c7e97d56-b686-4fce-f392-a7948a8d8bca",
        "colab": {
          "base_uri": "https://localhost:8080/",
          "height": 195
        }
      },
      "source": [
        "data01_plc_test.head()"
      ],
      "execution_count": null,
      "outputs": [
        {
          "output_type": "execute_result",
          "data": {
            "text/html": [
              "<div>\n",
              "<style scoped>\n",
              "    .dataframe tbody tr th:only-of-type {\n",
              "        vertical-align: middle;\n",
              "    }\n",
              "\n",
              "    .dataframe tbody tr th {\n",
              "        vertical-align: top;\n",
              "    }\n",
              "\n",
              "    .dataframe thead th {\n",
              "        text-align: right;\n",
              "    }\n",
              "</style>\n",
              "<table border=\"1\" class=\"dataframe\">\n",
              "  <thead>\n",
              "    <tr style=\"text-align: right;\">\n",
              "      <th></th>\n",
              "      <th>csv_no</th>\n",
              "      <th>spindle_load</th>\n",
              "      <th>x</th>\n",
              "      <th>y</th>\n",
              "      <th>z</th>\n",
              "      <th>hour</th>\n",
              "      <th>minute</th>\n",
              "      <th>id</th>\n",
              "    </tr>\n",
              "  </thead>\n",
              "  <tbody>\n",
              "    <tr>\n",
              "      <th>0</th>\n",
              "      <td>1</td>\n",
              "      <td>0.056705</td>\n",
              "      <td>-636.564300</td>\n",
              "      <td>46.728800</td>\n",
              "      <td>-380.029000</td>\n",
              "      <td>13</td>\n",
              "      <td>45</td>\n",
              "      <td>1</td>\n",
              "    </tr>\n",
              "    <tr>\n",
              "      <th>1</th>\n",
              "      <td>2</td>\n",
              "      <td>14.836691</td>\n",
              "      <td>-241.655016</td>\n",
              "      <td>129.768672</td>\n",
              "      <td>-524.292847</td>\n",
              "      <td>15</td>\n",
              "      <td>10</td>\n",
              "      <td>1</td>\n",
              "    </tr>\n",
              "    <tr>\n",
              "      <th>2</th>\n",
              "      <td>3</td>\n",
              "      <td>15.368488</td>\n",
              "      <td>-252.051477</td>\n",
              "      <td>138.808075</td>\n",
              "      <td>-529.952473</td>\n",
              "      <td>15</td>\n",
              "      <td>15</td>\n",
              "      <td>1</td>\n",
              "    </tr>\n",
              "    <tr>\n",
              "      <th>3</th>\n",
              "      <td>4</td>\n",
              "      <td>15.361418</td>\n",
              "      <td>-246.874731</td>\n",
              "      <td>132.580058</td>\n",
              "      <td>-535.614881</td>\n",
              "      <td>15</td>\n",
              "      <td>20</td>\n",
              "      <td>1</td>\n",
              "    </tr>\n",
              "    <tr>\n",
              "      <th>4</th>\n",
              "      <td>5</td>\n",
              "      <td>13.457013</td>\n",
              "      <td>-236.853588</td>\n",
              "      <td>125.540566</td>\n",
              "      <td>-542.558577</td>\n",
              "      <td>15</td>\n",
              "      <td>25</td>\n",
              "      <td>1</td>\n",
              "    </tr>\n",
              "  </tbody>\n",
              "</table>\n",
              "</div>"
            ],
            "text/plain": [
              "   csv_no  spindle_load           x           y           z  hour  minute  id\n",
              "0       1      0.056705 -636.564300   46.728800 -380.029000    13      45   1\n",
              "1       2     14.836691 -241.655016  129.768672 -524.292847    15      10   1\n",
              "2       3     15.368488 -252.051477  138.808075 -529.952473    15      15   1\n",
              "3       4     15.361418 -246.874731  132.580058 -535.614881    15      20   1\n",
              "4       5     13.457013 -236.853588  125.540566 -542.558577    15      25   1"
            ]
          },
          "metadata": {
            "tags": []
          },
          "execution_count": 37
        }
      ]
    },
    {
      "cell_type": "code",
      "metadata": {
        "id": "Jti_ij7K6FUE",
        "outputId": "9c1dc110-d211-459f-c9a1-7a8ffac724ab",
        "colab": {
          "base_uri": "https://localhost:8080/",
          "height": 195
        }
      },
      "source": [
        "data04_plc_test.head()"
      ],
      "execution_count": null,
      "outputs": [
        {
          "output_type": "execute_result",
          "data": {
            "text/html": [
              "<div>\n",
              "<style scoped>\n",
              "    .dataframe tbody tr th:only-of-type {\n",
              "        vertical-align: middle;\n",
              "    }\n",
              "\n",
              "    .dataframe tbody tr th {\n",
              "        vertical-align: top;\n",
              "    }\n",
              "\n",
              "    .dataframe thead th {\n",
              "        text-align: right;\n",
              "    }\n",
              "</style>\n",
              "<table border=\"1\" class=\"dataframe\">\n",
              "  <thead>\n",
              "    <tr style=\"text-align: right;\">\n",
              "      <th></th>\n",
              "      <th>csv_no</th>\n",
              "      <th>spindle_load</th>\n",
              "      <th>x</th>\n",
              "      <th>y</th>\n",
              "      <th>z</th>\n",
              "      <th>hour</th>\n",
              "      <th>minute</th>\n",
              "      <th>id</th>\n",
              "    </tr>\n",
              "  </thead>\n",
              "  <tbody>\n",
              "    <tr>\n",
              "      <th>0</th>\n",
              "      <td>1</td>\n",
              "      <td>14.864877</td>\n",
              "      <td>-258.843969</td>\n",
              "      <td>137.455786</td>\n",
              "      <td>-476.463000</td>\n",
              "      <td>12</td>\n",
              "      <td>23</td>\n",
              "      <td>4</td>\n",
              "    </tr>\n",
              "    <tr>\n",
              "      <th>1</th>\n",
              "      <td>2</td>\n",
              "      <td>13.921689</td>\n",
              "      <td>-267.847211</td>\n",
              "      <td>118.317371</td>\n",
              "      <td>-477.627911</td>\n",
              "      <td>12</td>\n",
              "      <td>28</td>\n",
              "      <td>4</td>\n",
              "    </tr>\n",
              "    <tr>\n",
              "      <th>2</th>\n",
              "      <td>3</td>\n",
              "      <td>14.158398</td>\n",
              "      <td>-263.077099</td>\n",
              "      <td>119.842497</td>\n",
              "      <td>-479.422114</td>\n",
              "      <td>12</td>\n",
              "      <td>34</td>\n",
              "      <td>4</td>\n",
              "    </tr>\n",
              "    <tr>\n",
              "      <th>3</th>\n",
              "      <td>4</td>\n",
              "      <td>14.400606</td>\n",
              "      <td>-264.219530</td>\n",
              "      <td>122.584868</td>\n",
              "      <td>-481.224927</td>\n",
              "      <td>12</td>\n",
              "      <td>39</td>\n",
              "      <td>4</td>\n",
              "    </tr>\n",
              "    <tr>\n",
              "      <th>4</th>\n",
              "      <td>5</td>\n",
              "      <td>14.650881</td>\n",
              "      <td>-256.026264</td>\n",
              "      <td>126.365148</td>\n",
              "      <td>-482.414975</td>\n",
              "      <td>12</td>\n",
              "      <td>44</td>\n",
              "      <td>4</td>\n",
              "    </tr>\n",
              "  </tbody>\n",
              "</table>\n",
              "</div>"
            ],
            "text/plain": [
              "   csv_no  spindle_load           x           y           z  hour  minute  id\n",
              "0       1     14.864877 -258.843969  137.455786 -476.463000    12      23   4\n",
              "1       2     13.921689 -267.847211  118.317371 -477.627911    12      28   4\n",
              "2       3     14.158398 -263.077099  119.842497 -479.422114    12      34   4\n",
              "3       4     14.400606 -264.219530  122.584868 -481.224927    12      39   4\n",
              "4       5     14.650881 -256.026264  126.365148 -482.414975    12      44   4"
            ]
          },
          "metadata": {
            "tags": []
          },
          "execution_count": 38
        }
      ]
    },
    {
      "cell_type": "code",
      "metadata": {
        "id": "vcijUBZR5R6U"
      },
      "source": [
        "data01_plc_test=feature_eng(data01_plc_test)\n",
        "data02_plc_test=feature_eng(data02_plc_test)\n",
        "data03_plc_test=feature_eng(data03_plc_test)\n",
        "data04_plc_test=feature_eng(data04_plc_test)\n",
        "data05_plc_test=feature_eng(data05_plc_test)"
      ],
      "execution_count": null,
      "outputs": []
    },
    {
      "cell_type": "code",
      "metadata": {
        "id": "tyUeZgPj5wRs",
        "outputId": "31642d3b-6f2b-4edf-af18-8b1a8f1272bd",
        "colab": {
          "base_uri": "https://localhost:8080/",
          "height": 195
        }
      },
      "source": [
        "data01_plc_test.head()"
      ],
      "execution_count": null,
      "outputs": [
        {
          "output_type": "execute_result",
          "data": {
            "text/html": [
              "<div>\n",
              "<style scoped>\n",
              "    .dataframe tbody tr th:only-of-type {\n",
              "        vertical-align: middle;\n",
              "    }\n",
              "\n",
              "    .dataframe tbody tr th {\n",
              "        vertical-align: top;\n",
              "    }\n",
              "\n",
              "    .dataframe thead th {\n",
              "        text-align: right;\n",
              "    }\n",
              "</style>\n",
              "<table border=\"1\" class=\"dataframe\">\n",
              "  <thead>\n",
              "    <tr style=\"text-align: right;\">\n",
              "      <th></th>\n",
              "      <th>csv_no</th>\n",
              "      <th>spindle_load</th>\n",
              "      <th>x</th>\n",
              "      <th>y</th>\n",
              "      <th>z</th>\n",
              "      <th>hour</th>\n",
              "      <th>minute</th>\n",
              "      <th>id</th>\n",
              "      <th>xyz</th>\n",
              "    </tr>\n",
              "  </thead>\n",
              "  <tbody>\n",
              "    <tr>\n",
              "      <th>0</th>\n",
              "      <td>1</td>\n",
              "      <td>0.056705</td>\n",
              "      <td>-636.564300</td>\n",
              "      <td>46.728800</td>\n",
              "      <td>-380.029000</td>\n",
              "      <td>13</td>\n",
              "      <td>45</td>\n",
              "      <td>1</td>\n",
              "      <td>639.985367</td>\n",
              "    </tr>\n",
              "    <tr>\n",
              "      <th>1</th>\n",
              "      <td>2</td>\n",
              "      <td>14.836691</td>\n",
              "      <td>-241.655016</td>\n",
              "      <td>129.768672</td>\n",
              "      <td>-524.292847</td>\n",
              "      <td>15</td>\n",
              "      <td>10</td>\n",
              "      <td>1</td>\n",
              "      <td>303.441861</td>\n",
              "    </tr>\n",
              "    <tr>\n",
              "      <th>2</th>\n",
              "      <td>3</td>\n",
              "      <td>15.368488</td>\n",
              "      <td>-252.051477</td>\n",
              "      <td>138.808075</td>\n",
              "      <td>-529.952473</td>\n",
              "      <td>15</td>\n",
              "      <td>15</td>\n",
              "      <td>1</td>\n",
              "      <td>319.476620</td>\n",
              "    </tr>\n",
              "    <tr>\n",
              "      <th>3</th>\n",
              "      <td>4</td>\n",
              "      <td>15.361418</td>\n",
              "      <td>-246.874731</td>\n",
              "      <td>132.580058</td>\n",
              "      <td>-535.614881</td>\n",
              "      <td>15</td>\n",
              "      <td>20</td>\n",
              "      <td>1</td>\n",
              "      <td>310.003349</td>\n",
              "    </tr>\n",
              "    <tr>\n",
              "      <th>4</th>\n",
              "      <td>5</td>\n",
              "      <td>13.457013</td>\n",
              "      <td>-236.853588</td>\n",
              "      <td>125.540566</td>\n",
              "      <td>-542.558577</td>\n",
              "      <td>15</td>\n",
              "      <td>25</td>\n",
              "      <td>1</td>\n",
              "      <td>296.007584</td>\n",
              "    </tr>\n",
              "  </tbody>\n",
              "</table>\n",
              "</div>"
            ],
            "text/plain": [
              "   csv_no  spindle_load           x           y  ...  hour  minute  id         xyz\n",
              "0       1      0.056705 -636.564300   46.728800  ...    13      45   1  639.985367\n",
              "1       2     14.836691 -241.655016  129.768672  ...    15      10   1  303.441861\n",
              "2       3     15.368488 -252.051477  138.808075  ...    15      15   1  319.476620\n",
              "3       4     15.361418 -246.874731  132.580058  ...    15      20   1  310.003349\n",
              "4       5     13.457013 -236.853588  125.540566  ...    15      25   1  296.007584\n",
              "\n",
              "[5 rows x 9 columns]"
            ]
          },
          "metadata": {
            "tags": []
          },
          "execution_count": 40
        }
      ]
    },
    {
      "cell_type": "code",
      "metadata": {
        "id": "ZdjBQaSE5k1y"
      },
      "source": [
        "data01_plc_test.drop(['csv_no','hour','minute'],axis=1,inplace=True)\n",
        "data02_plc_test.drop(['csv_no','hour','minute'],axis=1,inplace=True)\n",
        "data03_plc_test.drop(['csv_no','hour','minute'],axis=1,inplace=True)\n",
        "data04_plc_test.drop(['csv_no','hour','minute'],axis=1,inplace=True)\n",
        "data05_plc_test.drop(['csv_no','hour','minute'],axis=1,inplace=True)"
      ],
      "execution_count": null,
      "outputs": []
    },
    {
      "cell_type": "code",
      "metadata": {
        "id": "JUyxVySD88y4"
      },
      "source": [
        "#Preditions"
      ],
      "execution_count": null,
      "outputs": []
    },
    {
      "cell_type": "code",
      "metadata": {
        "id": "SBnvxCmd9XXN"
      },
      "source": [
        "predictions=[ols_results.predict(data01_plc_test.iloc[-1:]).iloc[0], ols_results.predict(data02_plc_test.iloc[-1:]).iloc[0], \n",
        "             ols_results.predict(data03_plc_test.iloc[-1:]).iloc[0], ols_results.predict(data04_plc_test.iloc[-1:]).iloc[0],\n",
        "             ols_results.predict(data05_plc_test.iloc[-1:]).iloc[0]]"
      ],
      "execution_count": null,
      "outputs": []
    },
    {
      "cell_type": "code",
      "metadata": {
        "id": "2LNj3NZlOW4n"
      },
      "source": [
        "#submission"
      ],
      "execution_count": null,
      "outputs": []
    },
    {
      "cell_type": "code",
      "metadata": {
        "id": "MmkUBSld64SK"
      },
      "source": [
        "submission=pd.read_csv(path_data+'submission.csv')"
      ],
      "execution_count": null,
      "outputs": []
    },
    {
      "cell_type": "code",
      "metadata": {
        "id": "WZQiE5vS-oH9",
        "outputId": "ae5deb65-7c1d-470b-acdb-c7e52e88c1d3",
        "colab": {
          "base_uri": "https://localhost:8080/",
          "height": 195
        }
      },
      "source": [
        "submission"
      ],
      "execution_count": null,
      "outputs": [
        {
          "output_type": "execute_result",
          "data": {
            "text/html": [
              "<div>\n",
              "<style scoped>\n",
              "    .dataframe tbody tr th:only-of-type {\n",
              "        vertical-align: middle;\n",
              "    }\n",
              "\n",
              "    .dataframe tbody tr th {\n",
              "        vertical-align: top;\n",
              "    }\n",
              "\n",
              "    .dataframe thead th {\n",
              "        text-align: right;\n",
              "    }\n",
              "</style>\n",
              "<table border=\"1\" class=\"dataframe\">\n",
              "  <thead>\n",
              "    <tr style=\"text-align: right;\">\n",
              "      <th></th>\n",
              "      <th>file</th>\n",
              "      <th>﻿answer</th>\n",
              "    </tr>\n",
              "  </thead>\n",
              "  <tbody>\n",
              "    <tr>\n",
              "      <th>0</th>\n",
              "      <td>files1</td>\n",
              "      <td>100</td>\n",
              "    </tr>\n",
              "    <tr>\n",
              "      <th>1</th>\n",
              "      <td>files2</td>\n",
              "      <td>200</td>\n",
              "    </tr>\n",
              "    <tr>\n",
              "      <th>2</th>\n",
              "      <td>files3</td>\n",
              "      <td>100</td>\n",
              "    </tr>\n",
              "    <tr>\n",
              "      <th>3</th>\n",
              "      <td>files4</td>\n",
              "      <td>200</td>\n",
              "    </tr>\n",
              "    <tr>\n",
              "      <th>4</th>\n",
              "      <td>files5</td>\n",
              "      <td>100</td>\n",
              "    </tr>\n",
              "  </tbody>\n",
              "</table>\n",
              "</div>"
            ],
            "text/plain": [
              "     file  ﻿answer\n",
              "0  files1      100\n",
              "1  files2      200\n",
              "2  files3      100\n",
              "3  files4      200\n",
              "4  files5      100"
            ]
          },
          "metadata": {
            "tags": []
          },
          "execution_count": 71
        }
      ]
    },
    {
      "cell_type": "code",
      "metadata": {
        "id": "mfwg_hso-po-"
      },
      "source": [
        "submission['﻿answer']=predictions"
      ],
      "execution_count": null,
      "outputs": []
    },
    {
      "cell_type": "code",
      "metadata": {
        "id": "AqzBVUMw67T7",
        "outputId": "2b32111b-99ff-4884-ddbf-eba402cc3aa0",
        "colab": {
          "base_uri": "https://localhost:8080/",
          "height": 195
        }
      },
      "source": [
        "submission"
      ],
      "execution_count": null,
      "outputs": [
        {
          "output_type": "execute_result",
          "data": {
            "text/html": [
              "<div>\n",
              "<style scoped>\n",
              "    .dataframe tbody tr th:only-of-type {\n",
              "        vertical-align: middle;\n",
              "    }\n",
              "\n",
              "    .dataframe tbody tr th {\n",
              "        vertical-align: top;\n",
              "    }\n",
              "\n",
              "    .dataframe thead th {\n",
              "        text-align: right;\n",
              "    }\n",
              "</style>\n",
              "<table border=\"1\" class=\"dataframe\">\n",
              "  <thead>\n",
              "    <tr style=\"text-align: right;\">\n",
              "      <th></th>\n",
              "      <th>file</th>\n",
              "      <th>﻿answer</th>\n",
              "    </tr>\n",
              "  </thead>\n",
              "  <tbody>\n",
              "    <tr>\n",
              "      <th>0</th>\n",
              "      <td>files1</td>\n",
              "      <td>79.997289</td>\n",
              "    </tr>\n",
              "    <tr>\n",
              "      <th>1</th>\n",
              "      <td>files2</td>\n",
              "      <td>84.643999</td>\n",
              "    </tr>\n",
              "    <tr>\n",
              "      <th>2</th>\n",
              "      <td>files3</td>\n",
              "      <td>75.524093</td>\n",
              "    </tr>\n",
              "    <tr>\n",
              "      <th>3</th>\n",
              "      <td>files4</td>\n",
              "      <td>65.730820</td>\n",
              "    </tr>\n",
              "    <tr>\n",
              "      <th>4</th>\n",
              "      <td>files5</td>\n",
              "      <td>50.738078</td>\n",
              "    </tr>\n",
              "  </tbody>\n",
              "</table>\n",
              "</div>"
            ],
            "text/plain": [
              "     file    ﻿answer\n",
              "0  files1  79.997289\n",
              "1  files2  84.643999\n",
              "2  files3  75.524093\n",
              "3  files4  65.730820\n",
              "4  files5  50.738078"
            ]
          },
          "metadata": {
            "tags": []
          },
          "execution_count": 73
        }
      ]
    },
    {
      "cell_type": "code",
      "metadata": {
        "id": "WsUEe1Pc6-Oa"
      },
      "source": [
        "# current position on the leaderboard: 16"
      ],
      "execution_count": null,
      "outputs": []
    },
    {
      "cell_type": "code",
      "metadata": {
        "id": "ILwNa3Xk-2Cz"
      },
      "source": [
        ""
      ],
      "execution_count": null,
      "outputs": []
    }
  ]
}