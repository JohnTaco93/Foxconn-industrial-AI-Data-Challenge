{
  "nbformat": 4,
  "nbformat_minor": 0,
  "metadata": {
    "colab": {
      "name": "2.Feature_processing.ipynb",
      "provenance": [],
      "collapsed_sections": [],
      "machine_shape": "hm",
      "authorship_tag": "ABX9TyNjDj/V0QIEVDBCa1+Uk0C0",
      "include_colab_link": true
    },
    "kernelspec": {
      "name": "python3",
      "display_name": "Python 3"
    }
  },
  "cells": [
    {
      "cell_type": "markdown",
      "metadata": {
        "id": "view-in-github",
        "colab_type": "text"
      },
      "source": [
        "<a href=\"https://colab.research.google.com/github/JohnTaco93/Foxconn-industrial-AI-Data-Challenge/blob/master/2.Feature_processing.ipynb\" target=\"_parent\"><img src=\"https://colab.research.google.com/assets/colab-badge.svg\" alt=\"Open In Colab\"/></a>"
      ]
    },
    {
      "cell_type": "code",
      "metadata": {
        "id": "9r6SWeRiYK-X",
        "colab_type": "code",
        "colab": {}
      },
      "source": [
        "#In this kernel the vibration-current data is processing for cutting tool #1. There are 48 files in total that have to be joined.\n",
        "#Also for each file, features will be created (mean, standard derivation, peak, Root Mean Square,  and Crest Factor)\n",
        "#Conclusions made in the Exploratory Data Analysis are taken into account."
      ],
      "execution_count": 1,
      "outputs": []
    },
    {
      "cell_type": "code",
      "metadata": {
        "id": "sloFhX93alMO",
        "colab_type": "code",
        "colab": {
          "base_uri": "https://localhost:8080/",
          "height": 34
        },
        "outputId": "fe797c6e-3425-4778-e50d-b6ac03820ae6"
      },
      "source": [
        "from google.colab import drive\n",
        "drive.mount('/content/gdrive')"
      ],
      "execution_count": 2,
      "outputs": [
        {
          "output_type": "stream",
          "text": [
            "Drive already mounted at /content/gdrive; to attempt to forcibly remount, call drive.mount(\"/content/gdrive\", force_remount=True).\n"
          ],
          "name": "stdout"
        }
      ]
    },
    {
      "cell_type": "code",
      "metadata": {
        "id": "UdGuHiPZagdb",
        "colab_type": "code",
        "colab": {}
      },
      "source": [
        "import warnings\n",
        "warnings.filterwarnings('ignore')\n",
        "import datetime\n",
        "import pandas as pd\n",
        "import numpy as np\n",
        "import matplotlib\n",
        "import matplotlib.pyplot as plt \n",
        "import seaborn as sns\n"
      ],
      "execution_count": 3,
      "outputs": []
    },
    {
      "cell_type": "code",
      "metadata": {
        "id": "MBNcV0k7apNv",
        "colab_type": "code",
        "colab": {}
      },
      "source": [
        "path_data = \"/content/gdrive/My Drive/Foxconn2020-tool-wear/Data-Original/\""
      ],
      "execution_count": 4,
      "outputs": []
    },
    {
      "cell_type": "code",
      "metadata": {
        "id": "k6RiHqucLNW7",
        "colab_type": "code",
        "colab": {}
      },
      "source": [
        "# Reading and joining all 48 vibration-current datasets\n",
        "data01_sensor=pd.DataFrame()\n",
        "for i in range(48):\n",
        "  data_sensor=pd.read_csv(path_data+'/01-Training Data/01/Sensor/'+str(i+1)+'.csv')\n",
        "  #there are signals that are outliers (10^3, 10^4, 10^5,10^(-5)), so the absolute value of vibration is limited to 30. \n",
        "  #Values that are higher than 30 are replaced by the mean of the vibration signal.\n",
        "  data_sensor.loc[abs(data_sensor.vibration_2)>30,'vibration_2']=data_sensor.loc[abs(data_sensor.vibration_2)<30][\"vibration_2\"].mean()\n",
        "  data_sensor.loc[abs(data_sensor.vibration_3)>30,'vibration_3']=data_sensor.loc[abs(data_sensor.vibration_3)<30][\"vibration_3\"].mean()\n",
        "  #csv_no is the order of the dataset. There are 48 datasets in total\n",
        "  data_sensor['csv_no']=i+1\n",
        "  data01_sensor=data01_sensor.append(data_sensor, ignore_index=True)\n"
      ],
      "execution_count": 5,
      "outputs": []
    },
    {
      "cell_type": "code",
      "metadata": {
        "id": "EpWtr4mIkzUG",
        "colab_type": "code",
        "colab": {
          "base_uri": "https://localhost:8080/",
          "height": 204
        },
        "outputId": "8ba2ff59-9825-451c-a731-8b2a7cc2c944"
      },
      "source": [
        "data01_sensor.head()"
      ],
      "execution_count": 6,
      "outputs": [
        {
          "output_type": "execute_result",
          "data": {
            "text/html": [
              "<div>\n",
              "<style scoped>\n",
              "    .dataframe tbody tr th:only-of-type {\n",
              "        vertical-align: middle;\n",
              "    }\n",
              "\n",
              "    .dataframe tbody tr th {\n",
              "        vertical-align: top;\n",
              "    }\n",
              "\n",
              "    .dataframe thead th {\n",
              "        text-align: right;\n",
              "    }\n",
              "</style>\n",
              "<table border=\"1\" class=\"dataframe\">\n",
              "  <thead>\n",
              "    <tr style=\"text-align: right;\">\n",
              "      <th></th>\n",
              "      <th>vibration_1</th>\n",
              "      <th>vibration_2</th>\n",
              "      <th>vibration_3</th>\n",
              "      <th>current</th>\n",
              "      <th>csv_no</th>\n",
              "    </tr>\n",
              "  </thead>\n",
              "  <tbody>\n",
              "    <tr>\n",
              "      <th>0</th>\n",
              "      <td>0.024189</td>\n",
              "      <td>-0.013899</td>\n",
              "      <td>0.045651</td>\n",
              "      <td>-31.837665</td>\n",
              "      <td>1</td>\n",
              "    </tr>\n",
              "    <tr>\n",
              "      <th>1</th>\n",
              "      <td>0.043586</td>\n",
              "      <td>-0.012801</td>\n",
              "      <td>0.027327</td>\n",
              "      <td>-32.089322</td>\n",
              "      <td>1</td>\n",
              "    </tr>\n",
              "    <tr>\n",
              "      <th>2</th>\n",
              "      <td>0.038096</td>\n",
              "      <td>-0.000727</td>\n",
              "      <td>0.029770</td>\n",
              "      <td>-31.975896</td>\n",
              "      <td>1</td>\n",
              "    </tr>\n",
              "    <tr>\n",
              "      <th>3</th>\n",
              "      <td>0.032973</td>\n",
              "      <td>-0.014143</td>\n",
              "      <td>0.050782</td>\n",
              "      <td>-32.031778</td>\n",
              "      <td>1</td>\n",
              "    </tr>\n",
              "    <tr>\n",
              "      <th>4</th>\n",
              "      <td>0.037608</td>\n",
              "      <td>-0.027193</td>\n",
              "      <td>0.064097</td>\n",
              "      <td>-31.946010</td>\n",
              "      <td>1</td>\n",
              "    </tr>\n",
              "  </tbody>\n",
              "</table>\n",
              "</div>"
            ],
            "text/plain": [
              "   vibration_1  vibration_2  vibration_3    current  csv_no\n",
              "0     0.024189    -0.013899     0.045651 -31.837665       1\n",
              "1     0.043586    -0.012801     0.027327 -32.089322       1\n",
              "2     0.038096    -0.000727     0.029770 -31.975896       1\n",
              "3     0.032973    -0.014143     0.050782 -32.031778       1\n",
              "4     0.037608    -0.027193     0.064097 -31.946010       1"
            ]
          },
          "metadata": {
            "tags": []
          },
          "execution_count": 6
        }
      ]
    },
    {
      "cell_type": "code",
      "metadata": {
        "id": "J0Uo9DFV1HWJ",
        "colab_type": "code",
        "colab": {
          "base_uri": "https://localhost:8080/",
          "height": 221
        },
        "outputId": "1e76c2fe-3db5-4c30-e55d-a14baac45877"
      },
      "source": [
        "data_sensor.info()"
      ],
      "execution_count": 7,
      "outputs": [
        {
          "output_type": "stream",
          "text": [
            "<class 'pandas.core.frame.DataFrame'>\n",
            "RangeIndex: 1548800 entries, 0 to 1548799\n",
            "Data columns (total 5 columns):\n",
            " #   Column       Non-Null Count    Dtype  \n",
            "---  ------       --------------    -----  \n",
            " 0   vibration_1  1548800 non-null  float64\n",
            " 1   vibration_2  1548800 non-null  float64\n",
            " 2   vibration_3  1548800 non-null  float64\n",
            " 3   current      1548800 non-null  float64\n",
            " 4   csv_no       1548800 non-null  int64  \n",
            "dtypes: float64(4), int64(1)\n",
            "memory usage: 59.1 MB\n"
          ],
          "name": "stdout"
        }
      ]
    },
    {
      "cell_type": "code",
      "metadata": {
        "id": "IN8IoTr6_CSF",
        "colab_type": "code",
        "colab": {}
      },
      "source": [
        "def agg_vibr(df,aggs):\n",
        "  df=  df.reset_index().groupby('csv_no').agg(aggs)\n",
        "  df.columns = df.columns.map('_'.join)\n",
        "  df=df.reset_index()  \n",
        "  return df"
      ],
      "execution_count": 8,
      "outputs": []
    },
    {
      "cell_type": "code",
      "metadata": {
        "id": "uy2Co_JUA9QO",
        "colab_type": "code",
        "colab": {}
      },
      "source": [
        "#Creating features:  mean, standartd derivation and peak value for each csv_no \n",
        "aggs={'vibration_1': ['mean', 'std','max'],\n",
        " 'vibration_2': ['mean', 'std','max'],\n",
        " 'vibration_3': ['mean', 'std','max'],\n",
        " 'current': ['mean', 'std','max']}"
      ],
      "execution_count": 9,
      "outputs": []
    },
    {
      "cell_type": "code",
      "metadata": {
        "id": "AmVSkz7hBBzH",
        "colab_type": "code",
        "colab": {}
      },
      "source": [
        "#Data Aggregation\n",
        "data01_sensor_agg=agg_vibr(data01_sensor,aggs)"
      ],
      "execution_count": 10,
      "outputs": []
    },
    {
      "cell_type": "code",
      "metadata": {
        "id": "v_UxShSNBKK6",
        "colab_type": "code",
        "colab": {
          "base_uri": "https://localhost:8080/",
          "height": 224
        },
        "outputId": "565ab1e4-952a-4a28-99b5-bf4f155647a7"
      },
      "source": [
        "data01_sensor_agg.head()"
      ],
      "execution_count": 11,
      "outputs": [
        {
          "output_type": "execute_result",
          "data": {
            "text/html": [
              "<div>\n",
              "<style scoped>\n",
              "    .dataframe tbody tr th:only-of-type {\n",
              "        vertical-align: middle;\n",
              "    }\n",
              "\n",
              "    .dataframe tbody tr th {\n",
              "        vertical-align: top;\n",
              "    }\n",
              "\n",
              "    .dataframe thead th {\n",
              "        text-align: right;\n",
              "    }\n",
              "</style>\n",
              "<table border=\"1\" class=\"dataframe\">\n",
              "  <thead>\n",
              "    <tr style=\"text-align: right;\">\n",
              "      <th></th>\n",
              "      <th>csv_no</th>\n",
              "      <th>vibration_1_mean</th>\n",
              "      <th>vibration_1_std</th>\n",
              "      <th>vibration_1_max</th>\n",
              "      <th>vibration_2_mean</th>\n",
              "      <th>vibration_2_std</th>\n",
              "      <th>vibration_2_max</th>\n",
              "      <th>vibration_3_mean</th>\n",
              "      <th>vibration_3_std</th>\n",
              "      <th>vibration_3_max</th>\n",
              "      <th>current_mean</th>\n",
              "      <th>current_std</th>\n",
              "      <th>current_max</th>\n",
              "    </tr>\n",
              "  </thead>\n",
              "  <tbody>\n",
              "    <tr>\n",
              "      <th>0</th>\n",
              "      <td>1</td>\n",
              "      <td>0.032055</td>\n",
              "      <td>1.257466</td>\n",
              "      <td>10.526876</td>\n",
              "      <td>-0.013657</td>\n",
              "      <td>1.023135</td>\n",
              "      <td>9.440342</td>\n",
              "      <td>-0.008531</td>\n",
              "      <td>1.807261</td>\n",
              "      <td>29.979248</td>\n",
              "      <td>-11.138611</td>\n",
              "      <td>33.050992</td>\n",
              "      <td>68.091055</td>\n",
              "    </tr>\n",
              "    <tr>\n",
              "      <th>1</th>\n",
              "      <td>2</td>\n",
              "      <td>0.033860</td>\n",
              "      <td>1.815351</td>\n",
              "      <td>13.055378</td>\n",
              "      <td>-0.009200</td>\n",
              "      <td>1.575724</td>\n",
              "      <td>12.979081</td>\n",
              "      <td>0.012159</td>\n",
              "      <td>2.029509</td>\n",
              "      <td>28.497853</td>\n",
              "      <td>-0.319054</td>\n",
              "      <td>36.355980</td>\n",
              "      <td>59.412173</td>\n",
              "    </tr>\n",
              "    <tr>\n",
              "      <th>2</th>\n",
              "      <td>3</td>\n",
              "      <td>0.030849</td>\n",
              "      <td>1.904693</td>\n",
              "      <td>15.540936</td>\n",
              "      <td>-0.012517</td>\n",
              "      <td>1.649458</td>\n",
              "      <td>15.523182</td>\n",
              "      <td>0.013061</td>\n",
              "      <td>1.992761</td>\n",
              "      <td>15.933651</td>\n",
              "      <td>-0.330611</td>\n",
              "      <td>35.652936</td>\n",
              "      <td>58.783423</td>\n",
              "    </tr>\n",
              "    <tr>\n",
              "      <th>3</th>\n",
              "      <td>4</td>\n",
              "      <td>0.029016</td>\n",
              "      <td>1.872942</td>\n",
              "      <td>15.947795</td>\n",
              "      <td>-0.013855</td>\n",
              "      <td>1.653137</td>\n",
              "      <td>14.723691</td>\n",
              "      <td>-0.229712</td>\n",
              "      <td>3.973331</td>\n",
              "      <td>29.999038</td>\n",
              "      <td>-0.322389</td>\n",
              "      <td>35.504967</td>\n",
              "      <td>58.372149</td>\n",
              "    </tr>\n",
              "    <tr>\n",
              "      <th>4</th>\n",
              "      <td>5</td>\n",
              "      <td>0.030490</td>\n",
              "      <td>1.928085</td>\n",
              "      <td>14.677810</td>\n",
              "      <td>-0.012181</td>\n",
              "      <td>1.715352</td>\n",
              "      <td>16.262056</td>\n",
              "      <td>-0.346211</td>\n",
              "      <td>5.426306</td>\n",
              "      <td>29.999771</td>\n",
              "      <td>-0.316911</td>\n",
              "      <td>35.359442</td>\n",
              "      <td>58.205663</td>\n",
              "    </tr>\n",
              "  </tbody>\n",
              "</table>\n",
              "</div>"
            ],
            "text/plain": [
              "   csv_no  vibration_1_mean  ...  current_std  current_max\n",
              "0       1          0.032055  ...    33.050992    68.091055\n",
              "1       2          0.033860  ...    36.355980    59.412173\n",
              "2       3          0.030849  ...    35.652936    58.783423\n",
              "3       4          0.029016  ...    35.504967    58.372149\n",
              "4       5          0.030490  ...    35.359442    58.205663\n",
              "\n",
              "[5 rows x 13 columns]"
            ]
          },
          "metadata": {
            "tags": []
          },
          "execution_count": 11
        }
      ]
    },
    {
      "cell_type": "code",
      "metadata": {
        "id": "jzT5rjM3chUB",
        "colab_type": "code",
        "colab": {
          "base_uri": "https://localhost:8080/",
          "height": 224
        },
        "outputId": "5c34ab09-3d46-47df-c866-2708f0ba2522"
      },
      "source": [
        "data01_sensor_agg.tail()"
      ],
      "execution_count": 12,
      "outputs": [
        {
          "output_type": "execute_result",
          "data": {
            "text/html": [
              "<div>\n",
              "<style scoped>\n",
              "    .dataframe tbody tr th:only-of-type {\n",
              "        vertical-align: middle;\n",
              "    }\n",
              "\n",
              "    .dataframe tbody tr th {\n",
              "        vertical-align: top;\n",
              "    }\n",
              "\n",
              "    .dataframe thead th {\n",
              "        text-align: right;\n",
              "    }\n",
              "</style>\n",
              "<table border=\"1\" class=\"dataframe\">\n",
              "  <thead>\n",
              "    <tr style=\"text-align: right;\">\n",
              "      <th></th>\n",
              "      <th>csv_no</th>\n",
              "      <th>vibration_1_mean</th>\n",
              "      <th>vibration_1_std</th>\n",
              "      <th>vibration_1_max</th>\n",
              "      <th>vibration_2_mean</th>\n",
              "      <th>vibration_2_std</th>\n",
              "      <th>vibration_2_max</th>\n",
              "      <th>vibration_3_mean</th>\n",
              "      <th>vibration_3_std</th>\n",
              "      <th>vibration_3_max</th>\n",
              "      <th>current_mean</th>\n",
              "      <th>current_std</th>\n",
              "      <th>current_max</th>\n",
              "    </tr>\n",
              "  </thead>\n",
              "  <tbody>\n",
              "    <tr>\n",
              "      <th>43</th>\n",
              "      <td>44</td>\n",
              "      <td>0.030124</td>\n",
              "      <td>2.614379</td>\n",
              "      <td>19.496066</td>\n",
              "      <td>-0.008376</td>\n",
              "      <td>2.424867</td>\n",
              "      <td>23.448816</td>\n",
              "      <td>0.003938</td>\n",
              "      <td>2.565022</td>\n",
              "      <td>29.838643</td>\n",
              "      <td>-0.390831</td>\n",
              "      <td>35.311493</td>\n",
              "      <td>59.556551</td>\n",
              "    </tr>\n",
              "    <tr>\n",
              "      <th>44</th>\n",
              "      <td>45</td>\n",
              "      <td>0.029789</td>\n",
              "      <td>2.676360</td>\n",
              "      <td>20.792646</td>\n",
              "      <td>-0.010998</td>\n",
              "      <td>2.395521</td>\n",
              "      <td>22.401367</td>\n",
              "      <td>-0.011678</td>\n",
              "      <td>2.602493</td>\n",
              "      <td>29.998916</td>\n",
              "      <td>-0.393054</td>\n",
              "      <td>35.290951</td>\n",
              "      <td>59.476836</td>\n",
              "    </tr>\n",
              "    <tr>\n",
              "      <th>45</th>\n",
              "      <td>46</td>\n",
              "      <td>0.031390</td>\n",
              "      <td>2.806505</td>\n",
              "      <td>22.521704</td>\n",
              "      <td>-0.008335</td>\n",
              "      <td>2.702773</td>\n",
              "      <td>22.102061</td>\n",
              "      <td>0.004186</td>\n",
              "      <td>2.785188</td>\n",
              "      <td>29.968132</td>\n",
              "      <td>-0.393852</td>\n",
              "      <td>35.387117</td>\n",
              "      <td>60.273169</td>\n",
              "    </tr>\n",
              "    <tr>\n",
              "      <th>46</th>\n",
              "      <td>47</td>\n",
              "      <td>0.032388</td>\n",
              "      <td>2.797463</td>\n",
              "      <td>21.481683</td>\n",
              "      <td>-0.007612</td>\n",
              "      <td>2.549905</td>\n",
              "      <td>27.342478</td>\n",
              "      <td>-0.022015</td>\n",
              "      <td>2.803830</td>\n",
              "      <td>29.974240</td>\n",
              "      <td>-0.390759</td>\n",
              "      <td>35.287985</td>\n",
              "      <td>59.855842</td>\n",
              "    </tr>\n",
              "    <tr>\n",
              "      <th>47</th>\n",
              "      <td>48</td>\n",
              "      <td>0.041799</td>\n",
              "      <td>0.022109</td>\n",
              "      <td>0.165339</td>\n",
              "      <td>0.003637</td>\n",
              "      <td>0.016938</td>\n",
              "      <td>0.082333</td>\n",
              "      <td>0.021226</td>\n",
              "      <td>0.028180</td>\n",
              "      <td>0.158160</td>\n",
              "      <td>-0.356437</td>\n",
              "      <td>0.072880</td>\n",
              "      <td>-0.014952</td>\n",
              "    </tr>\n",
              "  </tbody>\n",
              "</table>\n",
              "</div>"
            ],
            "text/plain": [
              "    csv_no  vibration_1_mean  ...  current_std  current_max\n",
              "43      44          0.030124  ...    35.311493    59.556551\n",
              "44      45          0.029789  ...    35.290951    59.476836\n",
              "45      46          0.031390  ...    35.387117    60.273169\n",
              "46      47          0.032388  ...    35.287985    59.855842\n",
              "47      48          0.041799  ...     0.072880    -0.014952\n",
              "\n",
              "[5 rows x 13 columns]"
            ]
          },
          "metadata": {
            "tags": []
          },
          "execution_count": 12
        }
      ]
    },
    {
      "cell_type": "code",
      "metadata": {
        "id": "i1VSzaUHDe9A",
        "colab_type": "code",
        "colab": {}
      },
      "source": [
        "#Creating features for vibrational signals for each csv_no\n",
        "\n",
        "#Root Mean Square\n",
        "data01_sensor['vibration_1_sqr']=data01_sensor['vibration_1']**2\n",
        "data01_sensor['vibration_2_sqr']=data01_sensor['vibration_2']**2\n",
        "data01_sensor['vibration_3_sqr']=data01_sensor['vibration_3']**2\n",
        "data01_sensor_agg['vibration_1_rms']=np.sqrt(data01_sensor.groupby('csv_no')['vibration_1_sqr'].mean()).values\n",
        "data01_sensor_agg['vibration_2_rms']=np.sqrt(data01_sensor.groupby('csv_no')['vibration_2_sqr'].mean()).values\n",
        "data01_sensor_agg['vibration_3_rms']=np.sqrt(data01_sensor.groupby('csv_no')['vibration_3_sqr'].mean()).values\n",
        "\n",
        "#Kurtosis\n",
        "data01_sensor_agg['vibration_1_kurt']=data01_sensor.groupby('csv_no')['vibration_1'].apply(pd.DataFrame.kurt).values\n",
        "data01_sensor_agg['vibration_2_kurt']=data01_sensor.groupby('csv_no')['vibration_2'].apply(pd.DataFrame.kurt).values\n",
        "data01_sensor_agg['vibration_3_kurt']=data01_sensor.groupby('csv_no')['vibration_3'].apply(pd.DataFrame.kurt).values\n",
        "\n",
        "#Crest Factor\n",
        "data01_sensor_agg['vibration_1_cest_fct']=data01_sensor_agg['vibration_1_max']/data01_sensor_agg['vibration_1_rms']\n",
        "data01_sensor_agg['vibration_2_cest_fct']=data01_sensor_agg['vibration_2_max']/data01_sensor_agg['vibration_2_rms']\n",
        "data01_sensor_agg['vibration_3_cest_fct']=data01_sensor_agg['vibration_3_max']/data01_sensor_agg['vibration_3_rms']"
      ],
      "execution_count": 13,
      "outputs": []
    },
    {
      "cell_type": "code",
      "metadata": {
        "id": "PWHRdRijDhlG",
        "colab_type": "code",
        "colab": {
          "base_uri": "https://localhost:8080/",
          "height": 224
        },
        "outputId": "f3fdf7dc-7a06-4ac9-d4dc-077263965bb1"
      },
      "source": [
        "data01_sensor_agg.head()"
      ],
      "execution_count": 14,
      "outputs": [
        {
          "output_type": "execute_result",
          "data": {
            "text/html": [
              "<div>\n",
              "<style scoped>\n",
              "    .dataframe tbody tr th:only-of-type {\n",
              "        vertical-align: middle;\n",
              "    }\n",
              "\n",
              "    .dataframe tbody tr th {\n",
              "        vertical-align: top;\n",
              "    }\n",
              "\n",
              "    .dataframe thead th {\n",
              "        text-align: right;\n",
              "    }\n",
              "</style>\n",
              "<table border=\"1\" class=\"dataframe\">\n",
              "  <thead>\n",
              "    <tr style=\"text-align: right;\">\n",
              "      <th></th>\n",
              "      <th>csv_no</th>\n",
              "      <th>vibration_1_mean</th>\n",
              "      <th>vibration_1_std</th>\n",
              "      <th>vibration_1_max</th>\n",
              "      <th>vibration_2_mean</th>\n",
              "      <th>vibration_2_std</th>\n",
              "      <th>vibration_2_max</th>\n",
              "      <th>vibration_3_mean</th>\n",
              "      <th>vibration_3_std</th>\n",
              "      <th>vibration_3_max</th>\n",
              "      <th>current_mean</th>\n",
              "      <th>current_std</th>\n",
              "      <th>current_max</th>\n",
              "      <th>vibration_1_rms</th>\n",
              "      <th>vibration_2_rms</th>\n",
              "      <th>vibration_3_rms</th>\n",
              "      <th>vibration_1_kurt</th>\n",
              "      <th>vibration_2_kurt</th>\n",
              "      <th>vibration_3_kurt</th>\n",
              "      <th>vibration_1_cest_fct</th>\n",
              "      <th>vibration_2_cest_fct</th>\n",
              "      <th>vibration_3_cest_fct</th>\n",
              "    </tr>\n",
              "  </thead>\n",
              "  <tbody>\n",
              "    <tr>\n",
              "      <th>0</th>\n",
              "      <td>1</td>\n",
              "      <td>0.032055</td>\n",
              "      <td>1.257466</td>\n",
              "      <td>10.526876</td>\n",
              "      <td>-0.013657</td>\n",
              "      <td>1.023135</td>\n",
              "      <td>9.440342</td>\n",
              "      <td>-0.008531</td>\n",
              "      <td>1.807261</td>\n",
              "      <td>29.979248</td>\n",
              "      <td>-11.138611</td>\n",
              "      <td>33.050992</td>\n",
              "      <td>68.091055</td>\n",
              "      <td>1.257874</td>\n",
              "      <td>1.023226</td>\n",
              "      <td>1.807281</td>\n",
              "      <td>2.660817</td>\n",
              "      <td>3.224526</td>\n",
              "      <td>19.469639</td>\n",
              "      <td>8.368782</td>\n",
              "      <td>9.226058</td>\n",
              "      <td>16.588040</td>\n",
              "    </tr>\n",
              "    <tr>\n",
              "      <th>1</th>\n",
              "      <td>2</td>\n",
              "      <td>0.033860</td>\n",
              "      <td>1.815351</td>\n",
              "      <td>13.055378</td>\n",
              "      <td>-0.009200</td>\n",
              "      <td>1.575724</td>\n",
              "      <td>12.979081</td>\n",
              "      <td>0.012159</td>\n",
              "      <td>2.029509</td>\n",
              "      <td>28.497853</td>\n",
              "      <td>-0.319054</td>\n",
              "      <td>36.355980</td>\n",
              "      <td>59.412173</td>\n",
              "      <td>1.815666</td>\n",
              "      <td>1.575751</td>\n",
              "      <td>2.029545</td>\n",
              "      <td>1.305299</td>\n",
              "      <td>2.013373</td>\n",
              "      <td>0.776188</td>\n",
              "      <td>7.190407</td>\n",
              "      <td>8.236760</td>\n",
              "      <td>14.041500</td>\n",
              "    </tr>\n",
              "    <tr>\n",
              "      <th>2</th>\n",
              "      <td>3</td>\n",
              "      <td>0.030849</td>\n",
              "      <td>1.904693</td>\n",
              "      <td>15.540936</td>\n",
              "      <td>-0.012517</td>\n",
              "      <td>1.649458</td>\n",
              "      <td>15.523182</td>\n",
              "      <td>0.013061</td>\n",
              "      <td>1.992761</td>\n",
              "      <td>15.933651</td>\n",
              "      <td>-0.330611</td>\n",
              "      <td>35.652936</td>\n",
              "      <td>58.783423</td>\n",
              "      <td>1.904942</td>\n",
              "      <td>1.649505</td>\n",
              "      <td>1.992803</td>\n",
              "      <td>1.631363</td>\n",
              "      <td>2.612785</td>\n",
              "      <td>0.783387</td>\n",
              "      <td>8.158221</td>\n",
              "      <td>9.410812</td>\n",
              "      <td>7.995598</td>\n",
              "    </tr>\n",
              "    <tr>\n",
              "      <th>3</th>\n",
              "      <td>4</td>\n",
              "      <td>0.029016</td>\n",
              "      <td>1.872942</td>\n",
              "      <td>15.947795</td>\n",
              "      <td>-0.013855</td>\n",
              "      <td>1.653137</td>\n",
              "      <td>14.723691</td>\n",
              "      <td>-0.229712</td>\n",
              "      <td>3.973331</td>\n",
              "      <td>29.999038</td>\n",
              "      <td>-0.322389</td>\n",
              "      <td>35.504967</td>\n",
              "      <td>58.372149</td>\n",
              "      <td>1.873166</td>\n",
              "      <td>1.653195</td>\n",
              "      <td>3.979965</td>\n",
              "      <td>1.587242</td>\n",
              "      <td>2.599197</td>\n",
              "      <td>20.588895</td>\n",
              "      <td>8.513819</td>\n",
              "      <td>8.906205</td>\n",
              "      <td>7.537514</td>\n",
              "    </tr>\n",
              "    <tr>\n",
              "      <th>4</th>\n",
              "      <td>5</td>\n",
              "      <td>0.030490</td>\n",
              "      <td>1.928085</td>\n",
              "      <td>14.677810</td>\n",
              "      <td>-0.012181</td>\n",
              "      <td>1.715352</td>\n",
              "      <td>16.262056</td>\n",
              "      <td>-0.346211</td>\n",
              "      <td>5.426306</td>\n",
              "      <td>29.999771</td>\n",
              "      <td>-0.316911</td>\n",
              "      <td>35.359442</td>\n",
              "      <td>58.205663</td>\n",
              "      <td>1.928326</td>\n",
              "      <td>1.715395</td>\n",
              "      <td>5.437338</td>\n",
              "      <td>1.686320</td>\n",
              "      <td>2.740558</td>\n",
              "      <td>11.223650</td>\n",
              "      <td>7.611686</td>\n",
              "      <td>9.480066</td>\n",
              "      <td>5.517364</td>\n",
              "    </tr>\n",
              "  </tbody>\n",
              "</table>\n",
              "</div>"
            ],
            "text/plain": [
              "   csv_no  vibration_1_mean  ...  vibration_2_cest_fct  vibration_3_cest_fct\n",
              "0       1          0.032055  ...              9.226058             16.588040\n",
              "1       2          0.033860  ...              8.236760             14.041500\n",
              "2       3          0.030849  ...              9.410812              7.995598\n",
              "3       4          0.029016  ...              8.906205              7.537514\n",
              "4       5          0.030490  ...              9.480066              5.517364\n",
              "\n",
              "[5 rows x 22 columns]"
            ]
          },
          "metadata": {
            "tags": []
          },
          "execution_count": 14
        }
      ]
    },
    {
      "cell_type": "code",
      "metadata": {
        "id": "UOaHye8mOYbo",
        "colab_type": "code",
        "colab": {}
      },
      "source": [
        "#saving the generated dataset\n",
        "data01_sensor_agg.to_csv('/content/gdrive/My Drive/Foxconn2020-tool-wear/Notebooks/John/data01_sensor_agg.csv',index=False)"
      ],
      "execution_count": 15,
      "outputs": []
    }
  ]
}